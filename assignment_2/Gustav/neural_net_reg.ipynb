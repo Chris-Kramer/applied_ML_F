{
 "cells": [
  {
   "cell_type": "code",
   "execution_count": 1,
   "metadata": {},
   "outputs": [
    {
     "name": "stderr",
     "output_type": "stream",
     "text": [
      "2022-11-04 15:21:06.780903: I tensorflow/core/platform/cpu_feature_guard.cc:193] This TensorFlow binary is optimized with oneAPI Deep Neural Network Library (oneDNN) to use the following CPU instructions in performance-critical operations:  AVX2 FMA\n",
      "To enable them in other operations, rebuild TensorFlow with the appropriate compiler flags.\n"
     ]
    }
   ],
   "source": [
    "import tensorflow as tf\n",
    "import numpy as np\n",
    "import sklearn\n",
    "from sklearn.preprocessing import StandardScaler"
   ]
  },
  {
   "cell_type": "code",
   "execution_count": 2,
   "metadata": {},
   "outputs": [
    {
     "name": "stdout",
     "output_type": "stream",
     "text": [
      "(40000, 84) (10000, 84) (40000,)\n"
     ]
    }
   ],
   "source": [
    "# Load data (must be in same folder as this file, which it will be if you simply unzip the assignment).\n",
    "# Note that we don't have any y_test! This way you cannot \"cheat\"!\n",
    "\n",
    "x_train = np.load('../Common/data/X_train.npy')\n",
    "x_test = np.load('../Common/data/X_test.npy')\n",
    "y_train = np.load('../Common/data/y_train.npy')\n",
    "\n",
    "scaler = StandardScaler()\n",
    "\n",
    "x_train = scaler.fit_transform(x_train)\n",
    "x_test = scaler.transform(x_test)\n",
    "\n",
    "print(x_train.shape, x_test.shape, y_train.shape)"
   ]
  },
  {
   "cell_type": "code",
   "execution_count": 13,
   "metadata": {},
   "outputs": [
    {
     "name": "stdout",
     "output_type": "stream",
     "text": [
      "Epoch 1/50\n",
      "1250/1250 [==============================] - 5s 3ms/step - loss: 0.3213 - mae: 0.4198\n",
      "Epoch 2/50\n",
      "1250/1250 [==============================] - 3s 2ms/step - loss: 0.0615 - mae: 0.1921\n",
      "Epoch 3/50\n",
      "1250/1250 [==============================] - 3s 2ms/step - loss: 0.0359 - mae: 0.1436\n",
      "Epoch 4/50\n",
      "1250/1250 [==============================] - 4s 3ms/step - loss: 0.0283 - mae: 0.1244\n",
      "Epoch 5/50\n",
      "1250/1250 [==============================] - 3s 2ms/step - loss: 0.0249 - mae: 0.1141\n",
      "Epoch 6/50\n",
      "1250/1250 [==============================] - 3s 2ms/step - loss: 0.0227 - mae: 0.1068\n",
      "Epoch 7/50\n",
      "1250/1250 [==============================] - 3s 2ms/step - loss: 0.0209 - mae: 0.0993\n",
      "Epoch 8/50\n",
      "1250/1250 [==============================] - 3s 3ms/step - loss: 0.0194 - mae: 0.0922\n",
      "Epoch 9/50\n",
      "1250/1250 [==============================] - 3s 2ms/step - loss: 0.0187 - mae: 0.0888\n",
      "Epoch 10/50\n",
      "1250/1250 [==============================] - 3s 2ms/step - loss: 0.0182 - mae: 0.0880\n",
      "Epoch 11/50\n",
      "1250/1250 [==============================] - 3s 2ms/step - loss: 0.0177 - mae: 0.0866\n",
      "Epoch 12/50\n",
      "1250/1250 [==============================] - 3s 3ms/step - loss: 0.0175 - mae: 0.0863\n",
      "Epoch 13/50\n",
      "1250/1250 [==============================] - 3s 2ms/step - loss: 0.0172 - mae: 0.0857\n",
      "Epoch 14/50\n",
      "1250/1250 [==============================] - 3s 2ms/step - loss: 0.0171 - mae: 0.0853\n",
      "Epoch 15/50\n",
      "1250/1250 [==============================] - 3s 2ms/step - loss: 0.0169 - mae: 0.0848\n",
      "Epoch 16/50\n",
      "1250/1250 [==============================] - 3s 3ms/step - loss: 0.0166 - mae: 0.0848\n",
      "Epoch 17/50\n",
      "1250/1250 [==============================] - 3s 2ms/step - loss: 0.0165 - mae: 0.0844\n",
      "Epoch 18/50\n",
      "1250/1250 [==============================] - 3s 2ms/step - loss: 0.0164 - mae: 0.0841\n",
      "Epoch 19/50\n",
      "1250/1250 [==============================] - 3s 2ms/step - loss: 0.0163 - mae: 0.0840\n",
      "Epoch 20/50\n",
      "1250/1250 [==============================] - 3s 2ms/step - loss: 0.0162 - mae: 0.0835\n",
      "Epoch 21/50\n",
      "1250/1250 [==============================] - 3s 2ms/step - loss: 0.0162 - mae: 0.0837\n",
      "Epoch 22/50\n",
      "1250/1250 [==============================] - 3s 2ms/step - loss: 0.0161 - mae: 0.0834\n",
      "Epoch 23/50\n",
      "1250/1250 [==============================] - 3s 2ms/step - loss: 0.0161 - mae: 0.0834\n",
      "Epoch 24/50\n",
      "1250/1250 [==============================] - 3s 2ms/step - loss: 0.0159 - mae: 0.0832\n",
      "Epoch 25/50\n",
      "1250/1250 [==============================] - 3s 2ms/step - loss: 0.0161 - mae: 0.0833\n",
      "Epoch 26/50\n",
      "1250/1250 [==============================] - 3s 2ms/step - loss: 0.0161 - mae: 0.0831\n",
      "Epoch 27/50\n",
      "1250/1250 [==============================] - 3s 2ms/step - loss: 0.0159 - mae: 0.0831\n",
      "Epoch 28/50\n",
      "1250/1250 [==============================] - 3s 2ms/step - loss: 0.0159 - mae: 0.0832\n",
      "Epoch 29/50\n",
      "1250/1250 [==============================] - 3s 2ms/step - loss: 0.0159 - mae: 0.0829\n",
      "Epoch 30/50\n",
      "1250/1250 [==============================] - 3s 2ms/step - loss: 0.0159 - mae: 0.0829\n",
      "Epoch 31/50\n",
      "1250/1250 [==============================] - 3s 2ms/step - loss: 0.0157 - mae: 0.0831\n",
      "Epoch 32/50\n",
      "1250/1250 [==============================] - 3s 2ms/step - loss: 0.0157 - mae: 0.0826\n",
      "Epoch 33/50\n",
      "1250/1250 [==============================] - 3s 2ms/step - loss: 0.0157 - mae: 0.0828\n",
      "Epoch 34/50\n",
      "1250/1250 [==============================] - 3s 2ms/step - loss: 0.0156 - mae: 0.0827\n",
      "Epoch 35/50\n",
      "1250/1250 [==============================] - 3s 2ms/step - loss: 0.0157 - mae: 0.0829\n",
      "Epoch 36/50\n",
      "1250/1250 [==============================] - 3s 2ms/step - loss: 0.0157 - mae: 0.0825\n",
      "Epoch 37/50\n",
      "1250/1250 [==============================] - 3s 2ms/step - loss: 0.0157 - mae: 0.0826\n",
      "Epoch 38/50\n",
      "1250/1250 [==============================] - 3s 2ms/step - loss: 0.0157 - mae: 0.0829\n",
      "Epoch 39/50\n",
      "1250/1250 [==============================] - 3s 2ms/step - loss: 0.0157 - mae: 0.0826\n",
      "Epoch 40/50\n",
      "1250/1250 [==============================] - 3s 2ms/step - loss: 0.0156 - mae: 0.0827\n",
      "Epoch 41/50\n",
      "1250/1250 [==============================] - 3s 2ms/step - loss: 0.0156 - mae: 0.0830\n",
      "Epoch 42/50\n",
      "1250/1250 [==============================] - 3s 2ms/step - loss: 0.0155 - mae: 0.0825\n",
      "Epoch 43/50\n",
      "1250/1250 [==============================] - 3s 2ms/step - loss: 0.0156 - mae: 0.0826\n",
      "Epoch 44/50\n",
      "1250/1250 [==============================] - 3s 2ms/step - loss: 0.0155 - mae: 0.0824\n",
      "Epoch 45/50\n",
      "1250/1250 [==============================] - 4s 3ms/step - loss: 0.0155 - mae: 0.0829\n",
      "Epoch 46/50\n",
      "1250/1250 [==============================] - 3s 2ms/step - loss: 0.0155 - mae: 0.0829\n",
      "Epoch 47/50\n",
      "1250/1250 [==============================] - 3s 2ms/step - loss: 0.0155 - mae: 0.0830\n",
      "Epoch 48/50\n",
      "1250/1250 [==============================] - 3s 2ms/step - loss: 0.0156 - mae: 0.0826\n",
      "Epoch 49/50\n",
      "1250/1250 [==============================] - 3s 2ms/step - loss: 0.0154 - mae: 0.0826\n",
      "Epoch 50/50\n",
      "1250/1250 [==============================] - 3s 2ms/step - loss: 0.0154 - mae: 0.0826\n"
     ]
    }
   ],
   "source": [
    "# Model 1\n",
    "model = tf.keras.models.Sequential([\n",
    "    tf.keras.layers.Flatten(input_shape=(84,)),\n",
    "    tf.keras.layers.Dense(64, activation='relu'),\n",
    "    tf.keras.layers.Dropout(0.5),\n",
    "    tf.keras.layers.Dense(128, activation='relu'),\n",
    "    tf.keras.layers.Dropout(0.5),\n",
    "    tf.keras.layers.Dense(1, activation='linear'),\n",
    "    ])\n",
    "\n",
    "model.compile(\n",
    "    loss='mse',\n",
    "    optimizer='rmsprop',\n",
    "    metrics=['mae'],\n",
    "    )\n",
    "\n",
    "history = model.fit(x_train, y_train, epochs=50)"
   ]
  },
  {
   "cell_type": "code",
   "execution_count": 7,
   "metadata": {},
   "outputs": [],
   "source": [
    "import matplotlib.pyplot as plt\n",
    "def plot_hist(history, metric = \"root_mean_squared_error\"):\n",
    "    acc = history.history[metric]\n",
    "    val_acc = history.history[\"val_\" + str(metric)]\n",
    "    loss = history.history['loss']\n",
    "    val_loss = history.history['val_loss']\n",
    "    epochs = range(1, len(acc) + 1)\n",
    "\n",
    "    figure, axis = plt.subplots(2, 1)\n",
    "\n",
    "    axis[0].plot(epochs, acc, label = 'Training msqe')\n",
    "    axis[0].plot(epochs, val_acc, label = 'Validation msqe')\n",
    "    axis[0].set_title('Training and validation mean squared error')\n",
    "    axis[0].legend(loc = \"upper right\")\n",
    "\n",
    "    axis[1].plot(epochs, loss, label = 'Training loss')\n",
    "    axis[1].plot(epochs, val_loss, label = 'Training loss')\n",
    "    axis[1].set_title('Training and validation loss')\n",
    "    axis[1].legend(loc = \"upper right\")\n",
    "\n",
    "    plt.subplots_adjust(hspace = 0.4)\n",
    "\n",
    "    plt.show()"
   ]
  },
  {
   "cell_type": "code",
   "execution_count": 10,
   "metadata": {},
   "outputs": [
    {
     "data": {
      "image/png": "[encoded data removed]",
      "text/plain": [
       "<Figure size 640x480 with 2 Axes>"
      ]
     },
     "metadata": {},
     "output_type": "display_data"
    }
   ],
   "source": [
    "plot_hist(history, metric=\"mae\")"
   ]
  },
  {
   "cell_type": "code",
   "execution_count": 14,
   "metadata": {},
   "outputs": [
    {
     "name": "stdout",
     "output_type": "stream",
     "text": [
      "313/313 [==============================] - 1s 4ms/step\n"
     ]
    }
   ],
   "source": [
    "import pandas as pd\n",
    "y_test_hat = model.predict(x_test)\n",
    "y_test_hat_pd = pd.DataFrame({\n",
    "    'Id': list(range(10000)),\n",
    "    'Predicted': y_test_hat.reshape(-1),\n",
    "})"
   ]
  },
  {
   "cell_type": "code",
   "execution_count": 15,
   "metadata": {},
   "outputs": [],
   "source": [
    "assert isinstance(y_test_hat_pd, pd.DataFrame)\n",
    "assert all(y_test_hat_pd.columns == ['Id', 'Predicted'])\n",
    "assert len(y_test_hat_pd) == 10000\n",
    "\n",
    "# If you pass the checks, the file is saved.\n",
    "y_test_hat_pd.to_csv('y_test_hat.csv', index=False)"
   ]
  }
 ],
 "metadata": {
  "kernelspec": {
   "display_name": "Python 3.10.2 ('.venv': venv)",
   "language": "python",
   "name": "python3"
  },
  "language_info": {
   "codemirror_mode": {
    "name": "ipython",
    "version": 3
   },
   "file_extension": ".py",
   "mimetype": "text/x-python",
   "name": "python",
   "nbconvert_exporter": "python",
   "pygments_lexer": "ipython3",
   "version": "3.10.2"
  },
  "orig_nbformat": 4,
  "vscode": {
   "interpreter": {
    "hash": "e72cf8e77b7d4326b9e75b3e7b443795cefd44c8f7193af81f99b8d1febeaf0b"
   }
  }
 },
 "nbformat": 4,
 "nbformat_minor": 2
}
