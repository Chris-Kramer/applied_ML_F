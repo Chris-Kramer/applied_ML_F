{
  "cells": [
    {
      "cell_type": "markdown",
      "source": [
        "#### Loading and preparing the PCam data for training shallow learning models using tensorflow dataset (tfds)"
      ],
      "metadata": {
        "id": "WhvLML4T15tV"
      }
    },
    {
      "cell_type": "code",
      "source": [
        "from sklearn import svm\n",
        "from sklearn.metrics import accuracy_score\n",
        "import numpy as np\n",
        "\n",
        "import tensorflow as tf\n",
        "import tensorflow_datasets as tfds\n",
        "from sklearn.preprocessing import StandardScaler"
      ],
      "outputs": [
        {
          "output_type": "error",
          "ename": "ModuleNotFoundError",
          "evalue": "No module named 'tensorflow'",
          "traceback": [
            "\u001b[1;31m---------------------------------------------------------------------------\u001b[0m",
            "\u001b[1;31mModuleNotFoundError\u001b[0m                       Traceback (most recent call last)",
            "Cell \u001b[1;32mIn[1], line 5\u001b[0m\n\u001b[0;32m      2\u001b[0m \u001b[38;5;28;01mfrom\u001b[39;00m \u001b[38;5;21;01msklearn\u001b[39;00m\u001b[38;5;21;01m.\u001b[39;00m\u001b[38;5;21;01mmetrics\u001b[39;00m \u001b[38;5;28;01mimport\u001b[39;00m accuracy_score\n\u001b[0;32m      3\u001b[0m \u001b[38;5;28;01mimport\u001b[39;00m \u001b[38;5;21;01mnumpy\u001b[39;00m \u001b[38;5;28;01mas\u001b[39;00m \u001b[38;5;21;01mnp\u001b[39;00m\n\u001b[1;32m----> 5\u001b[0m \u001b[38;5;28;01mimport\u001b[39;00m \u001b[38;5;21;01mtensorflow\u001b[39;00m \u001b[38;5;28;01mas\u001b[39;00m \u001b[38;5;21;01mtf\u001b[39;00m\n\u001b[0;32m      6\u001b[0m \u001b[38;5;28;01mimport\u001b[39;00m \u001b[38;5;21;01mtensorflow_datasets\u001b[39;00m \u001b[38;5;28;01mas\u001b[39;00m \u001b[38;5;21;01mtfds\u001b[39;00m\n\u001b[0;32m      7\u001b[0m \u001b[38;5;28;01mfrom\u001b[39;00m \u001b[38;5;21;01msklearn\u001b[39;00m\u001b[38;5;21;01m.\u001b[39;00m\u001b[38;5;21;01mpreprocessing\u001b[39;00m \u001b[38;5;28;01mimport\u001b[39;00m StandardScaler\n",
            "\u001b[1;31mModuleNotFoundError\u001b[0m: No module named 'tensorflow'"
          ]
        }
      ],
      "execution_count": 1,
      "metadata": {
        "id": "JwxQHGy_15tb",
        "execution": {
          "iopub.status.busy": "2023-01-26T10:39:19.885Z",
          "iopub.execute_input": "2023-01-26T10:39:19.908Z"
        }
      }
    },
    {
      "cell_type": "markdown",
      "source": [
        "Defining a function that grayscale, resize and flattens the image. This function might also become handy (for deep learning) if the original images are too large for your hardware configuration."
      ],
      "metadata": {
        "id": "lOKqkr5U15tg"
      }
    },
    {
      "cell_type": "code",
      "source": [
        "def convert_sample(image):\n",
        "    image = tf.image.rgb_to_grayscale(image)\n",
        "    image = tf.image.resize(image,[32,32]).numpy()\n",
        "    image = image.reshape(1,-1)\n",
        "    return image"
      ],
      "outputs": [],
      "execution_count": 3,
      "metadata": {
        "id": "u2HYPeO615th"
      }
    },
    {
      "cell_type": "code",
      "source": [
        "# GUSTAV\n",
        "data_dir = "
      ],
      "outputs": [],
      "execution_count": null,
      "metadata": {}
    },
    {
      "cell_type": "code",
      "source": [
        "# ANDREAS\n",
        "data_dir = r'C:\\Users\\andly\\OneDrive\\Dokumenter\\applied_ML_faelles'"
      ],
      "outputs": [],
      "execution_count": 6,
      "metadata": {}
    },
    {
      "cell_type": "code",
      "source": [
        "# DAVID\n",
        "data_dir = "
      ],
      "outputs": [],
      "execution_count": null,
      "metadata": {}
    },
    {
      "cell_type": "code",
      "source": [
        "# CHRISTOFFER S\n",
        "data_dir = "
      ],
      "outputs": [],
      "execution_count": null,
      "metadata": {}
    },
    {
      "cell_type": "code",
      "source": [
        "# CHRISTOFFER K\n",
        "data_dir = "
      ],
      "outputs": [],
      "execution_count": null,
      "metadata": {}
    },
    {
      "cell_type": "markdown",
      "source": [
        "Next we use the tensorflow dataset API - tfds - to load data from your mounted google drive. Note this API requite that you should have copied the entire **patch_camelyon** folder from https://syddanskuni-my.sharepoint.com/:f:/g/personal/cmd_sam_sdu_dk/EiWD2LmuxCJBp-_tfGK7aL8Bair7l5z8FU5sp5pLjlhKwg?e=FLzWno to the /content/drive/MyDrive folder on your google drive:"
      ],
      "metadata": {
        "id": "VBn2P6Yo15tj"
      }
    },
    {
      "cell_type": "code",
      "source": [
        "ds1,ds2,ds3 = tfds.load('patch_camelyon',\n",
        "                        split=['train[:10%]','test[:10%]','validation[:10%]'],\n",
        "                        data_dir = data_dir,\n",
        "                        download=False,\n",
        "                        batch_size=-1, # All data...no batches needed \n",
        "                        as_supervised=True, # So that we easily can transform data to numpy format\n",
        "                        shuffle_files=True)\n",
        "                        "
      ],
      "outputs": [
        {
          "output_type": "error",
          "ename": "AssertionError",
          "evalue": "Dataset patch_camelyon: could not find data in /Users/gustavchristensen/Documents/SDU/MSc. Data Science/3. Semester - DT/Anvendt Maskinlæring. Please make sure to call dataset_builder.download_and_prepare(), or pass download=True to tfds.load() before trying to access the tf.data.Dataset object.",
          "traceback": [
            "\u001b[1;31m---------------------------------------------------------------------------\u001b[0m",
            "\u001b[1;31mAssertionError\u001b[0m                            Traceback (most recent call last)",
            "Cell \u001b[1;32mIn[5], line 1\u001b[0m\n\u001b[1;32m----> 1\u001b[0m ds1,ds2,ds3 \u001b[39m=\u001b[39m tfds\u001b[39m.\u001b[39;49mload(\u001b[39m'\u001b[39;49m\u001b[39mpatch_camelyon\u001b[39;49m\u001b[39m'\u001b[39;49m,\n\u001b[0;32m      2\u001b[0m                         split\u001b[39m=\u001b[39;49m[\u001b[39m'\u001b[39;49m\u001b[39mtrain[:10\u001b[39;49m\u001b[39m%\u001b[39;49m\u001b[39m]\u001b[39;49m\u001b[39m'\u001b[39;49m,\u001b[39m'\u001b[39;49m\u001b[39mtest[:10\u001b[39;49m\u001b[39m%\u001b[39;49m\u001b[39m]\u001b[39;49m\u001b[39m'\u001b[39;49m,\u001b[39m'\u001b[39;49m\u001b[39mvalidation[:10\u001b[39;49m\u001b[39m%\u001b[39;49m\u001b[39m]\u001b[39;49m\u001b[39m'\u001b[39;49m],\n\u001b[0;32m      3\u001b[0m                         data_dir \u001b[39m=\u001b[39;49m \u001b[39m'\u001b[39;49m\u001b[39m/Users/gustavchristensen/Documents/SDU/MSc. Data Science/3. Semester - DT/Anvendt Maskinlæring\u001b[39;49m\u001b[39m'\u001b[39;49m,\n\u001b[0;32m      4\u001b[0m                         download\u001b[39m=\u001b[39;49m\u001b[39mFalse\u001b[39;49;00m,\n\u001b[0;32m      5\u001b[0m                         batch_size\u001b[39m=\u001b[39;49m\u001b[39m-\u001b[39;49m\u001b[39m1\u001b[39;49m, \u001b[39m# All data...no batches needed \u001b[39;49;00m\n\u001b[0;32m      6\u001b[0m                         as_supervised\u001b[39m=\u001b[39;49m\u001b[39mTrue\u001b[39;49;00m, \u001b[39m# So that we easily can transform data to numpy format\u001b[39;49;00m\n\u001b[0;32m      7\u001b[0m                         shuffle_files\u001b[39m=\u001b[39;49m\u001b[39mTrue\u001b[39;49;00m)\n",
            "File \u001b[1;32mc:\\Users\\andly\\miniconda3\\envs\\exam_env\\lib\\site-packages\\tensorflow_datasets\\core\\logging\\__init__.py:169\u001b[0m, in \u001b[0;36m_FunctionDecorator.__call__\u001b[1;34m(self, function, instance, args, kwargs)\u001b[0m\n\u001b[0;32m    167\u001b[0m metadata \u001b[39m=\u001b[39m \u001b[39mself\u001b[39m\u001b[39m.\u001b[39m_start_call()\n\u001b[0;32m    168\u001b[0m \u001b[39mtry\u001b[39;00m:\n\u001b[1;32m--> 169\u001b[0m   \u001b[39mreturn\u001b[39;00m function(\u001b[39m*\u001b[39margs, \u001b[39m*\u001b[39m\u001b[39m*\u001b[39mkwargs)\n\u001b[0;32m    170\u001b[0m \u001b[39mexcept\u001b[39;00m \u001b[39mException\u001b[39;00m:\n\u001b[0;32m    171\u001b[0m   metadata\u001b[39m.\u001b[39mmark_error()\n",
            "File \u001b[1;32mc:\\Users\\andly\\miniconda3\\envs\\exam_env\\lib\\site-packages\\tensorflow_datasets\\core\\load.py:629\u001b[0m, in \u001b[0;36mload\u001b[1;34m(name, split, data_dir, batch_size, shuffle_files, download, as_supervised, decoders, read_config, with_info, builder_kwargs, download_and_prepare_kwargs, as_dataset_kwargs, try_gcs)\u001b[0m\n\u001b[0;32m    626\u001b[0m as_dataset_kwargs\u001b[39m.\u001b[39msetdefault(\u001b[39m'\u001b[39m\u001b[39mshuffle_files\u001b[39m\u001b[39m'\u001b[39m, shuffle_files)\n\u001b[0;32m    627\u001b[0m as_dataset_kwargs\u001b[39m.\u001b[39msetdefault(\u001b[39m'\u001b[39m\u001b[39mread_config\u001b[39m\u001b[39m'\u001b[39m, read_config)\n\u001b[1;32m--> 629\u001b[0m ds \u001b[39m=\u001b[39m dbuilder\u001b[39m.\u001b[39mas_dataset(\u001b[39m*\u001b[39m\u001b[39m*\u001b[39mas_dataset_kwargs)\n\u001b[0;32m    630\u001b[0m \u001b[39mif\u001b[39;00m with_info:\n\u001b[0;32m    631\u001b[0m   \u001b[39mreturn\u001b[39;00m ds, dbuilder\u001b[39m.\u001b[39minfo\n",
            "File \u001b[1;32mc:\\Users\\andly\\miniconda3\\envs\\exam_env\\lib\\site-packages\\tensorflow_datasets\\core\\logging\\__init__.py:169\u001b[0m, in \u001b[0;36m_FunctionDecorator.__call__\u001b[1;34m(self, function, instance, args, kwargs)\u001b[0m\n\u001b[0;32m    167\u001b[0m metadata \u001b[39m=\u001b[39m \u001b[39mself\u001b[39m\u001b[39m.\u001b[39m_start_call()\n\u001b[0;32m    168\u001b[0m \u001b[39mtry\u001b[39;00m:\n\u001b[1;32m--> 169\u001b[0m   \u001b[39mreturn\u001b[39;00m function(\u001b[39m*\u001b[39margs, \u001b[39m*\u001b[39m\u001b[39m*\u001b[39mkwargs)\n\u001b[0;32m    170\u001b[0m \u001b[39mexcept\u001b[39;00m \u001b[39mException\u001b[39;00m:\n\u001b[0;32m    171\u001b[0m   metadata\u001b[39m.\u001b[39mmark_error()\n",
            "File \u001b[1;32mc:\\Users\\andly\\miniconda3\\envs\\exam_env\\lib\\site-packages\\tensorflow_datasets\\core\\dataset_builder.py:747\u001b[0m, in \u001b[0;36mDatasetBuilder.as_dataset\u001b[1;34m(self, split, batch_size, shuffle_files, decoders, read_config, as_supervised)\u001b[0m\n\u001b[0;32m    745\u001b[0m \u001b[39m# pylint: enable=line-too-long\u001b[39;00m\n\u001b[0;32m    746\u001b[0m \u001b[39mif\u001b[39;00m \u001b[39mnot\u001b[39;00m tf\u001b[39m.\u001b[39mio\u001b[39m.\u001b[39mgfile\u001b[39m.\u001b[39mexists(\u001b[39mself\u001b[39m\u001b[39m.\u001b[39m_data_dir):\n\u001b[1;32m--> 747\u001b[0m   \u001b[39mraise\u001b[39;00m \u001b[39mAssertionError\u001b[39;00m(\n\u001b[0;32m    748\u001b[0m       \u001b[39m\"\u001b[39m\u001b[39mDataset \u001b[39m\u001b[39m%s\u001b[39;00m\u001b[39m: could not find data in \u001b[39m\u001b[39m%s\u001b[39;00m\u001b[39m. Please make sure to call \u001b[39m\u001b[39m\"\u001b[39m\n\u001b[0;32m    749\u001b[0m       \u001b[39m\"\u001b[39m\u001b[39mdataset_builder.download_and_prepare(), or pass download=True to \u001b[39m\u001b[39m\"\u001b[39m\n\u001b[0;32m    750\u001b[0m       \u001b[39m\"\u001b[39m\u001b[39mtfds.load() before trying to access the tf.data.Dataset object.\u001b[39m\u001b[39m\"\u001b[39m\n\u001b[0;32m    751\u001b[0m       \u001b[39m%\u001b[39m (\u001b[39mself\u001b[39m\u001b[39m.\u001b[39mname, \u001b[39mself\u001b[39m\u001b[39m.\u001b[39m_data_dir_root)\n\u001b[0;32m    752\u001b[0m   )\n\u001b[0;32m    754\u001b[0m \u001b[39m# By default, return all splits\u001b[39;00m\n\u001b[0;32m    755\u001b[0m \u001b[39mif\u001b[39;00m split \u001b[39mis\u001b[39;00m \u001b[39mNone\u001b[39;00m:\n",
            "\u001b[1;31mAssertionError\u001b[0m: Dataset patch_camelyon: could not find data in /Users/gustavchristensen/Documents/SDU/MSc. Data Science/3. Semester - DT/Anvendt Maskinlæring. Please make sure to call dataset_builder.download_and_prepare(), or pass download=True to tfds.load() before trying to access the tf.data.Dataset object."
          ]
        }
      ],
      "execution_count": 5,
      "metadata": {
        "id": "ajHSLb1e15tl"
      }
    },
    {
      "cell_type": "markdown",
      "source": [
        "Next we can easily convert both the images and the labels to numpy format "
      ],
      "metadata": {
        "id": "9kuVMFWJ15tn"
      }
    },
    {
      "cell_type": "code",
      "source": [
        "train_dataset       = tfds.as_numpy(ds1)\n",
        "train_dataset_image = np.vstack(list(map(convert_sample,train_dataset[0])))\n",
        "train_dataset_image_Scaled = StandardScaler(with_mean=0, with_std=1).fit_transform(train_dataset_image)\n",
        "train_dataset_label = train_dataset[1].reshape(-1,)    \n",
        "print(f'Shape of training data features (observations,features): {train_dataset_image_Scaled.shape}')\n",
        "print(f'Shape of training data labels (observations,): {train_dataset_label.shape}')\n",
        "\n",
        "validation_dataset  = tfds.as_numpy(ds3)\n",
        "validation_dataset_image = np.vstack(list(map(convert_sample,validation_dataset[0])))\n",
        "validation_dataset_image_Scaled = StandardScaler(with_mean=0, with_std=1).fit_transform(validation_dataset_image)\n",
        "validation_dataset_label = validation_dataset[1].reshape(-1,) \n",
        "   \n",
        "test_dataset        = tfds.as_numpy(ds2)\n",
        "test_dataset_image = np.vstack(list(map(convert_sample,test_dataset[0])))\n",
        "test_dataset_image_Scaled = StandardScaler(with_mean=0, with_std=1).fit_transform(test_dataset_image)\n",
        "test_dataset_label = test_dataset[1].reshape(-1,)"
      ],
      "outputs": [
        {
          "output_type": "stream",
          "name": "stdout",
          "text": [
            "Shape of training data features (observations,features): (20972, 1024)\n",
            "Shape of training data labels (observations,): (20972,)\n"
          ]
        }
      ],
      "execution_count": 10,
      "metadata": {
        "colab": {
          "base_uri": "https://localhost:8080/"
        },
        "id": "ROyKRTvB15to",
        "outputId": "da37ff05-fc86-475a-f3d4-626445e7b0c5"
      }
    },
    {
      "cell_type": "markdown",
      "source": [
        "The data is then ready to be applied for training, validation, testing in a shallow learning model such as the SVM classifier...below just a very very simple illustration on how to construct and train a support vector machine based on the data we have prepared"
      ],
      "metadata": {
        "id": "WZ4KbAKP15tr"
      }
    },
    {
      "cell_type": "code",
      "source": [
        "clf = svm.SVC(kernel='rbf')\n",
        "clf.fit(train_dataset_image_Scaled, train_dataset_label)\n",
        "y_test_hat = clf.predict(test_dataset_image)\n",
        "\n",
        "# Obtain accuracy by using the `accuracy_score` function\n",
        "accuracy_linear = accuracy_score(y_test_hat, test_dataset_label )\n",
        "# Print results\n",
        "print(f'SVM achieved {round(accuracy_linear * 100, 1)}% accuracy.')"
      ],
      "outputs": [
        {
          "output_type": "stream",
          "name": "stdout",
          "text": [
            "SVM achieved 51.9% accuracy.\n"
          ]
        }
      ],
      "execution_count": 6,
      "metadata": {
        "colab": {
          "base_uri": "https://localhost:8080/"
        },
        "id": "iw5goz8g15tt",
        "outputId": "059566ce-5769-429d-f6ce-67c36d3b9c85"
      }
    }
  ],
  "metadata": {
    "colab": {
      "provenance": []
    },
    "kernelspec": {
      "display_name": "exam_env",
      "language": "python",
      "name": "python3"
    },
    "language_info": {
      "name": "python",
      "version": "3.11.1",
      "mimetype": "text/x-python",
      "codemirror_mode": {
        "name": "ipython",
        "version": 3
      },
      "pygments_lexer": "ipython3",
      "nbconvert_exporter": "python",
      "file_extension": ".py"
    },
    "orig_nbformat": 4,
    "vscode": {
      "interpreter": {
        "hash": "6ecdb10f3c22435eb74c870acf599988a6eb074b27bead8772fcf8e781cddb7c"
      }
    },
    "nteract": {
      "version": "0.28.0"
    }
  },
  "nbformat": 4,
  "nbformat_minor": 0
}