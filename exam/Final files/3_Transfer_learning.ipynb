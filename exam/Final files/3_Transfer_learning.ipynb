{
 "cells": [
  {
   "attachments": {},
   "cell_type": "markdown",
   "metadata": {},
   "source": [
    "# 3. Transfer learning"
   ]
  },
  {
   "attachments": {},
   "cell_type": "markdown",
   "metadata": {},
   "source": [
    "## Packages"
   ]
  },
  {
   "cell_type": "code",
   "execution_count": null,
   "metadata": {},
   "outputs": [],
   "source": [
    "# ----- Tensorflow -----\n",
    "import tensorflow as tf\n",
    "from keras.models import Model\n",
    "from keras.layers import Flatten, Dense, Input\n",
    "from keras import optimizers as opt\n",
    "\n",
    "# ----- Transfer learning -----\n",
    "from keras.applications import NASNetLarge\n",
    "from keras.applications import EfficientNetB0\n",
    "from keras.applications import MobileNetV2\n",
    "\n",
    "# ----- plot -----\n",
    "import matplotlib.pyplot as plt\n",
    "from keras.utils import plot_model\n",
    "\n",
    "# ----- Utility functions -----\n",
    "from utils import load_data, plot_hist, _convert_sample, get_features_and_labels, preprocess_data, augment_layer\n",
    "\n",
    "# ------ Data ------\n",
    "import numpy as np\n",
    "\n",
    "\n",
    "\n"
   ]
  },
  {
   "attachments": {},
   "cell_type": "markdown",
   "metadata": {},
   "source": [
    "## Load Data"
   ]
  },
  {
   "cell_type": "code",
   "execution_count": null,
   "metadata": {},
   "outputs": [],
   "source": [
    "data_dir = \"D:/OneDrive - Syddansk Universitet/kandidat/3_semester/Maskinlæring/ds807_anvendt_maskinlæring/eksamen/exam/patch_camelyon\"\n",
    "BATCH_SIZE = 32\n",
    "train, test, val = load_data(data_dir, perc=10, batch_size=BATCH_SIZE)\n",
    "\n",
    "\n"
   ]
  },
  {
   "attachments": {},
   "cell_type": "markdown",
   "metadata": {},
   "source": [
    "## Transfer Learning\n",
    "\n",
    "\n"
   ]
  },
  {
   "attachments": {},
   "cell_type": "markdown",
   "metadata": {},
   "source": [
    "### Pure Feature Extraction - 1 pass\n"
   ]
  },
  {
   "attachments": {},
   "cell_type": "markdown",
   "metadata": {},
   "source": [
    "#### Hyperparameters"
   ]
  },
  {
   "cell_type": "code",
   "execution_count": null,
   "metadata": {},
   "outputs": [],
   "source": [
    "# Hyperparams\n",
    "EPOCHS = 50\n",
    "LEARNING_RATE = 0.001\n",
    "OPTIMIZER = opt.Nadam(learning_rate = LEARNING_RATE)\n",
    "\n",
    "\n"
   ]
  },
  {
   "attachments": {},
   "cell_type": "markdown",
   "metadata": {},
   "source": [
    "#### Build Feature Extractor with NasNet Large"
   ]
  },
  {
   "attachments": {},
   "cell_type": "markdown",
   "metadata": {},
   "source": [
    "#### Feature Extractor"
   ]
  },
  {
   "cell_type": "code",
   "execution_count": null,
   "metadata": {},
   "outputs": [],
   "source": [
    "# Initilize NasNetLarge Feature Extractor\n",
    "NasNet_ft_extractor = NASNetLarge(\n",
    "    input_shape=(96, 96, 3),\n",
    "    include_top= False,\n",
    "    weights='imagenet'\n",
    ")\n",
    "NasNet_ft_extractor.trainable = False\n",
    "\n",
    "\n"
   ]
  },
  {
   "attachments": {},
   "cell_type": "markdown",
   "metadata": {},
   "source": [
    "#### Classifier"
   ]
  },
  {
   "cell_type": "code",
   "execution_count": null,
   "metadata": {},
   "outputs": [],
   "source": [
    "# Build classifer\n",
    "x = NasNet_ft_extractor.output\n",
    "x = Flatten()(x)\n",
    "x = Dense(64, activation='relu')(x)\n",
    "output = Dense(2, activation='softmax')(x)\n",
    "m_nasnet = Model(inputs = NasNet_ft_extractor.output, outputs = output)\n",
    "\n",
    "# Compile model\n",
    "m_nasnet.compile(\n",
    "    optimizer = OPTIMIZER,\n",
    "    loss='categorical_crossentropy',\n",
    "    metrics=['accuracy'],\n",
    "    )\n",
    "\n",
    "\n",
    "    "
   ]
  },
  {
   "attachments": {},
   "cell_type": "markdown",
   "metadata": {},
   "source": [
    "#### Extract Features"
   ]
  },
  {
   "cell_type": "code",
   "execution_count": null,
   "metadata": {},
   "outputs": [],
   "source": [
    "# X features\n",
    "nasnet_fts_train, y_train = get_features_and_labels(train, NasNet_ft_extractor, tf.keras.applications.efficientnet.preprocess_input)\n",
    "nasnet_fts_val, y_val = get_features_and_labels(val, NasNet_ft_extractor, tf.keras.applications.efficientnet.preprocess_input)\n",
    "\n",
    "\n"
   ]
  },
  {
   "attachments": {},
   "cell_type": "markdown",
   "metadata": {},
   "source": [
    "#### Train model with Nasnet Features"
   ]
  },
  {
   "cell_type": "code",
   "execution_count": null,
   "metadata": {},
   "outputs": [],
   "source": [
    "history_nasnet = m_nasnet.fit(x = nasnet_fts_train, y = y_train, validation_data = (nasnet_fts_val, y_val), epochs = EPOCHS, batch_size = BATCH_SIZE)\n",
    "\n",
    "\n"
   ]
  },
  {
   "attachments": {},
   "cell_type": "markdown",
   "metadata": {},
   "source": [
    "### Feature extractor with MobileNetV2"
   ]
  },
  {
   "attachments": {},
   "cell_type": "markdown",
   "metadata": {},
   "source": [
    "#### Feature Extractor"
   ]
  },
  {
   "cell_type": "code",
   "execution_count": null,
   "metadata": {},
   "outputs": [],
   "source": [
    "# Layers for feature extraction\n",
    "mobilev2_ft_extractor = MobileNetV2(\n",
    "    input_shape=(96, 96, 3),\n",
    "    include_top= False,\n",
    "    weights='imagenet'\n",
    ")\n",
    "mobilev2_ft_extractor.trainable = False\n",
    "\n",
    "\n"
   ]
  },
  {
   "attachments": {},
   "cell_type": "markdown",
   "metadata": {},
   "source": [
    "#### Classifier"
   ]
  },
  {
   "cell_type": "code",
   "execution_count": null,
   "metadata": {},
   "outputs": [],
   "source": [
    "# Full model\n",
    "x = mobilev2_ft_extractor.output\n",
    "x = Flatten()(x)\n",
    "x = Dense(64, activation='relu')(x)\n",
    "output = Dense(2, activation='softmax')(x)\n",
    "m_mobilev2 = Model(inputs = mobilev2_ft_extractor.output, outputs = output)\n",
    "\n",
    "# Compile model\n",
    "m_mobilev2.compile(\n",
    "    optimizer = OPTIMIZER,\n",
    "    loss='categorical_crossentropy',\n",
    "    metrics=['accuracy'],\n",
    "    )\n",
    "\n",
    "\n",
    "    "
   ]
  },
  {
   "attachments": {},
   "cell_type": "markdown",
   "metadata": {},
   "source": [
    "#### Extract Features"
   ]
  },
  {
   "cell_type": "code",
   "execution_count": null,
   "metadata": {},
   "outputs": [],
   "source": [
    "# Extract Features\n",
    "mobilev2_fts_train, y_train = get_features_and_labels(train, mobilev2_ft_extractor, tf.keras.applications.mobilenet_v2.preprocess_input)\n",
    "mobilev2_fts_val, y_val = get_features_and_labels(val, mobilev2_ft_extractor, tf.keras.applications.mobilenet_v2.preprocess_input)\n",
    "\n",
    "\n"
   ]
  },
  {
   "attachments": {},
   "cell_type": "markdown",
   "metadata": {},
   "source": [
    "#### Train model with mobilev2 features"
   ]
  },
  {
   "cell_type": "code",
   "execution_count": null,
   "metadata": {},
   "outputs": [],
   "source": [
    "history_mobile_v2 = m_mobilev2.fit(x = mobilev2_fts_train, y = y_train, validation_data = (mobilev2_fts_val, y_val), epochs = EPOCHS, batch_size = BATCH_SIZE)\n",
    "\n",
    "\n"
   ]
  },
  {
   "attachments": {},
   "cell_type": "markdown",
   "metadata": {},
   "source": [
    "### Feature extractor with EfficientNet B0"
   ]
  },
  {
   "attachments": {},
   "cell_type": "markdown",
   "metadata": {},
   "source": [
    "#### Feature extractor"
   ]
  },
  {
   "cell_type": "code",
   "execution_count": null,
   "metadata": {},
   "outputs": [],
   "source": [
    "# Layers for feature extraction\n",
    "efficient_ft_extractor = EfficientNetB0(\n",
    "    input_shape=(96, 96, 3),\n",
    "    include_top= False,\n",
    "    weights='imagenet'\n",
    ")\n",
    "efficient_ft_extractor.trainable = False\n",
    "\n",
    "\n"
   ]
  },
  {
   "attachments": {},
   "cell_type": "markdown",
   "metadata": {},
   "source": [
    "#### Classifier"
   ]
  },
  {
   "cell_type": "code",
   "execution_count": null,
   "metadata": {},
   "outputs": [],
   "source": [
    "# Full model\n",
    "x = efficient_ft_extractor.output\n",
    "x = Flatten()(x)\n",
    "x = Dense(64, activation='relu')(x)\n",
    "output = Dense(2, activation='softmax')(x)\n",
    "m_efficient = Model(inputs = efficient_ft_extractor.output, outputs = output)\n",
    "\n",
    "# Compile model\n",
    "m_efficient.compile(\n",
    "    optimizer = OPTIMIZER,\n",
    "    loss='categorical_crossentropy',\n",
    "    metrics=['accuracy'],\n",
    "    )\n",
    "\n",
    "\n",
    "    "
   ]
  },
  {
   "attachments": {},
   "cell_type": "markdown",
   "metadata": {},
   "source": [
    "#### Extract Features"
   ]
  },
  {
   "cell_type": "code",
   "execution_count": null,
   "metadata": {},
   "outputs": [],
   "source": [
    "# X features\n",
    "efficient_fts_train, y_val = get_features_and_labels(train, efficient_ft_extractor, tf.keras.applications.efficientnet.preprocess_input)\n",
    "efficient_fts_val, y_val = get_features_and_labels(val, efficient_ft_extractor, tf.keras.applications.efficientnet.preprocess_input)\n",
    "\n",
    "\n"
   ]
  },
  {
   "attachments": {},
   "cell_type": "markdown",
   "metadata": {},
   "source": [
    "#### Train model with EffcientNet B0 features"
   ]
  },
  {
   "cell_type": "code",
   "execution_count": null,
   "metadata": {},
   "outputs": [],
   "source": [
    "history_efficient = m_efficient.fit(x = efficient_fts_train, y = y_train, validation_data = (efficient_fts_val, y_val), epochs = EPOCHS, batch_size = BATCH_SIZE)\n",
    "\n",
    "\n"
   ]
  },
  {
   "attachments": {},
   "cell_type": "markdown",
   "metadata": {},
   "source": [
    "### Plot Results"
   ]
  },
  {
   "attachments": {},
   "cell_type": "markdown",
   "metadata": {},
   "source": [
    "#### NasNet"
   ]
  },
  {
   "cell_type": "code",
   "execution_count": null,
   "metadata": {},
   "outputs": [],
   "source": [
    "plot_hist(history_nasnet)\n",
    "\n",
    "\n"
   ]
  },
  {
   "attachments": {},
   "cell_type": "markdown",
   "metadata": {},
   "source": [
    "#### MobileNet V2"
   ]
  },
  {
   "cell_type": "code",
   "execution_count": null,
   "metadata": {},
   "outputs": [],
   "source": [
    "plot_hist(history_mobile_v2)\n",
    "\n",
    "\n"
   ]
  },
  {
   "attachments": {},
   "cell_type": "markdown",
   "metadata": {},
   "source": [
    "#### EfficientNet B0"
   ]
  },
  {
   "cell_type": "code",
   "execution_count": null,
   "metadata": {},
   "outputs": [],
   "source": [
    "plot_hist(history_efficient)\n",
    "\n",
    "\n"
   ]
  },
  {
   "attachments": {},
   "cell_type": "markdown",
   "metadata": {},
   "source": [
    "## Feature Extraction with multiple passes\n"
   ]
  },
  {
   "attachments": {},
   "cell_type": "markdown",
   "metadata": {},
   "source": [
    "### Data augmentation"
   ]
  },
  {
   "cell_type": "code",
   "execution_count": null,
   "metadata": {},
   "outputs": [],
   "source": [
    "def do_nothing(x):\n",
    "    return x\n",
    "imgs, lbs = preprocess_data(train, do_nothing)\n",
    "\n",
    "img = imgs[3]\n",
    "plt.title('Original Image')\n",
    "plt.imshow(img)\n",
    "\n",
    "EPOCHS = 25\n",
    "\n",
    "\n"
   ]
  },
  {
   "cell_type": "code",
   "execution_count": null,
   "metadata": {},
   "outputs": [],
   "source": [
    "aug_img = augment_layer(flip = \"horizontal_and_vertical\", rotation=0.5, zoom = 0.4, contrast = 0.5)(img)\n",
    "plt.title(\"Augmented Image\")\n",
    "plt.imshow(aug_img)\n",
    "\n",
    "\n"
   ]
  },
  {
   "attachments": {},
   "cell_type": "markdown",
   "metadata": {},
   "source": [
    "#### MobileNet V2"
   ]
  },
  {
   "cell_type": "code",
   "execution_count": null,
   "metadata": {},
   "outputs": [],
   "source": [
    "# Build classifer\n",
    "inputs = Input(shape = (96, 96, 3))\n",
    "x = augment_layer(flip = \"horizontal_and_vertical\", rotation=0.5, zoom = 0.4, contrast = 0.5)(inputs)\n",
    "x = tf.keras.applications.mobilenet_v2.preprocess_input(x)\n",
    "x = mobilev2_ft_extractor(inputs)\n",
    "x = Flatten()(x)\n",
    "x = Dense(64, activation='relu')(x)\n",
    "output = Dense(2, activation='softmax')(x)\n",
    "m_mobile_layer = Model(inputs = inputs, outputs = output)\n",
    "\n",
    "# Compile model\n",
    "m_mobile_layer.compile(\n",
    "    optimizer = OPTIMIZER,\n",
    "    loss='categorical_crossentropy',\n",
    "    metrics=['accuracy'],\n",
    "    )\n",
    "\n",
    "\n",
    "    "
   ]
  },
  {
   "cell_type": "code",
   "execution_count": null,
   "metadata": {},
   "outputs": [],
   "source": [
    "history_mobile_layer = m_mobile_layer.fit(train, validation_data= val, epochs = EPOCHS)\n",
    "\n",
    "\n"
   ]
  },
  {
   "attachments": {},
   "cell_type": "markdown",
   "metadata": {},
   "source": [
    "### EfficientNet B0"
   ]
  },
  {
   "cell_type": "code",
   "execution_count": null,
   "metadata": {},
   "outputs": [],
   "source": [
    "# Build classifer\n",
    "inputs = Input(shape = (96, 96, 3))\n",
    "x = augment_layer(flip = \"horizontal_and_vertical\", rotation=0.5, zoom = 0.4, contrast = 0.5)(inputs)\n",
    "x =  tf.keras.applications.efficientnet.preprocess_input(x)\n",
    "x = efficient_ft_extractor(inputs)\n",
    "x = Flatten()(x)\n",
    "x = Dense(64, activation='relu')(x)\n",
    "output = Dense(2, activation='softmax')(x)\n",
    "m_efficient_layer = Model(inputs = inputs, outputs = output)\n",
    "\n",
    "# Compile model\n",
    "m_efficient_layer.compile(\n",
    "    optimizer = OPTIMIZER,\n",
    "    loss='categorical_crossentropy',\n",
    "    metrics=['accuracy'],\n",
    "    )\n",
    "\n",
    "\n",
    "    "
   ]
  },
  {
   "cell_type": "code",
   "execution_count": null,
   "metadata": {},
   "outputs": [],
   "source": [
    "history_efficient_layer = m_efficient_layer.fit(train, validation_data = val, epochs = EPOCHS)\n",
    "\n",
    "\n"
   ]
  },
  {
   "attachments": {},
   "cell_type": "markdown",
   "metadata": {},
   "source": [
    "### Plot results"
   ]
  },
  {
   "attachments": {},
   "cell_type": "markdown",
   "metadata": {},
   "source": [
    "#### MobileNet"
   ]
  },
  {
   "cell_type": "code",
   "execution_count": null,
   "metadata": {},
   "outputs": [],
   "source": [
    "plot_hist(history_mobile_layer)\n",
    "\n",
    "\n"
   ]
  },
  {
   "attachments": {},
   "cell_type": "markdown",
   "metadata": {},
   "source": [
    "#### EfficientNet"
   ]
  },
  {
   "cell_type": "code",
   "execution_count": null,
   "metadata": {},
   "outputs": [],
   "source": [
    "plot_hist(history_efficient_layer)\n",
    "\n",
    "\n"
   ]
  },
  {
   "attachments": {},
   "cell_type": "markdown",
   "metadata": {},
   "source": [
    "## Fine Tuning"
   ]
  },
  {
   "attachments": {},
   "cell_type": "markdown",
   "metadata": {},
   "source": [
    "#### Log architectures to textfile"
   ]
  },
  {
   "cell_type": "code",
   "execution_count": null,
   "metadata": {},
   "outputs": [],
   "source": [
    "with open('nasnetsummary.txt', 'w') as f:\n",
    "\n",
    "    NasNet_ft_extractor.summary(print_fn=lambda x: f.write(x + '\\n'))\n",
    "\n",
    "with open('mobilesummary.txt', 'w') as f:\n",
    "\n",
    "    mobilev2_ft_extractor.summary(print_fn=lambda x: f.write(x + '\\n'))\n",
    "\n",
    "\n",
    "    "
   ]
  },
  {
   "attachments": {},
   "cell_type": "markdown",
   "metadata": {},
   "source": [
    "#### Unfreeze layers"
   ]
  },
  {
   "cell_type": "code",
   "execution_count": null,
   "metadata": {},
   "outputs": [],
   "source": [
    "# Make last 20 layers trainable\n",
    "for layer in mobilev2_ft_extractor.layers[-20 : -1]:\n",
    "    layer.trainable = True"
   ]
  },
  {
   "cell_type": "code",
   "execution_count": null,
   "metadata": {},
   "outputs": [],
   "source": [
    "history_fine_tune = m_mobile_layer.fit(train, validation_data= val, epochs = 10)\n",
    "\n",
    "\n"
   ]
  },
  {
   "attachments": {},
   "cell_type": "markdown",
   "metadata": {},
   "source": [
    "#### Plot results"
   ]
  },
  {
   "cell_type": "code",
   "execution_count": null,
   "metadata": {},
   "outputs": [],
   "source": [
    "plot_hist(history_fine_tune)\n",
    "\n",
    "\n"
   ]
  },
  {
   "attachments": {},
   "cell_type": "markdown",
   "metadata": {},
   "source": [
    "## Evaluate best models"
   ]
  },
  {
   "cell_type": "code",
   "execution_count": null,
   "metadata": {},
   "outputs": [],
   "source": [
    "test_x, test_y = get_features_and_labels(test, NasNet_ft_extractor, tf.keras.applications.efficientnet.preprocess_input)\n",
    "m_nasnet.evaluate(x = test_x, y = test_y)\n",
    "\n",
    "\n"
   ]
  },
  {
   "cell_type": "code",
   "execution_count": null,
   "metadata": {},
   "outputs": [],
   "source": [
    "m_mobile_layer.evaluate(test)\n",
    "\n",
    "\n"
   ]
  }
 ],
 "metadata": {
  "kernelspec": {
   "display_name": "Python 3",
   "language": "python",
   "name": "python3"
  },
  "language_info": {
   "name": "python",
   "version": "3.10.9 | packaged by conda-forge | (main, Jan 11 2023, 15:15:40) [MSC v.1916 64 bit (AMD64)]"
  },
  "orig_nbformat": 4,
  "vscode": {
   "interpreter": {
    "hash": "7c037c50784c8fe91816897342cd1cc35efa951afb7f8ba1a70a6407b514eb40"
   }
  }
 },
 "nbformat": 4,
 "nbformat_minor": 2
}
