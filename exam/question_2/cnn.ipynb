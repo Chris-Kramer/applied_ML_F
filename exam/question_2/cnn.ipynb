{
 "cells": [
  {
   "attachments": {},
   "cell_type": "markdown",
   "metadata": {},
   "source": [
    "### Imports"
   ]
  },
  {
   "cell_type": "code",
   "execution_count": null,
   "metadata": {},
   "outputs": [],
   "source": [
    "# Configuring the model for training\n",
    "model.compile(loss='binary_crossentropy',\n",
    "              optimizer='rmsprop',\n",
    "              metrics='accuracy')\n",
    "\n",
    "history = model.fit(\n",
    "    train,\n",
    "    epochs=10,\n",
    "    validation_data=val\n",
    ")"
   ]
  },
  {
   "cell_type": "code",
   "execution_count": 56,
   "metadata": {},
   "outputs": [],
   "source": [
    "# Simple CNN\n",
    "# LeNet\n",
    "# Activation: tanh\n",
    "# Conv (kernel = 5x5, strides = 1) --> avg pool (kernel = 2x2, strides = 2) --> Conv(5x5, strides = 1) --> avg pool(2x2, strides = 2) --> Flatten --> Dense --> Sigmotrain, test, val = load_data()id\n",
    "data_dir = '/Users/gustavchristensen/Documents/SDU/MSc. Data Science/3. Semester - DT/Anvendt Maskinlæring'\n",
    "BATCH_SIZE = 32\n",
    "train, test, val = load_data(data_dir, perc=1, batch_size=BATCH_SIZE)\n"
   ]
  },
  {
   "cell_type": "code",
   "execution_count": 71,
   "metadata": {},
   "outputs": [],
   "source": [
    "# ----- Tensorflow -----\n",
    "import tensorflow as tf\n",
    "import tensorflow_datasets as tfds\n",
    "from keras import regularizers as reg\n",
    "from keras import optimizers optt\n",
    "from keras.models import Model, load_model\n",
    "from keras.callbacks import EarlyStopping, ModelCheckpoint\n",
    "from keras.preprocessing.image import ImageDataGenerator\n",
    "from keras.utils.vis_utils import plot_model\n",
    "\n",
    "from keras.layers import Input, Dropout, Dense, Conv2D, MaxPooling2D, Flatten, Concatenate, AveragePooling2D\n",
    "\n",
    "# ----- Utility functions -----\n",
    "from utils import load_data, plot_hist"
   ]
  },
  {
   "attachments": {},
   "cell_type": "markdown",
   "metadata": {},
   "source": [
    "## Alternative Architectures\n",
    "- Consider and discuss alternative CNN model architectures"
   ]
  },
  {
   "attachments": {},
   "cell_type": "markdown",
   "metadata": {},
   "source": [
    "#### LeNet"
   ]
  },
  {
   "cell_type": "code",
   "execution_count": 59,
   "metadata": {},
   "outputs": [
    {
     "name": "stdout",
     "output_type": "stream",
     "text": [
      "Model: \"model_10\"\n",
      "_________________________________________________________________\n",
      " Layer (type)                Output Shape              Param #   \n",
      "=================================================================\n",
      " input_11 (InputLayer)       [(None, 96, 96, 3)]       0         \n",
      "                                                                 \n",
      " conv2d_22 (Conv2D)          (None, 92, 92, 6)         456       \n",
      "                                                                 \n",
      " average_pooling2d_20 (Avera  (None, 46, 46, 6)        0         \n",
      " gePooling2D)                                                    \n",
      "                                                                 \n",
      " conv2d_23 (Conv2D)          (None, 42, 42, 16)        2416      \n",
      "                                                                 \n",
      " average_pooling2d_21 (Avera  (None, 21, 21, 16)       0         \n",
      " gePooling2D)                                                    \n",
      "                                                                 \n",
      " flatten_10 (Flatten)        (None, 7056)              0         \n",
      "                                                                 \n",
      " dense_26 (Dense)            (None, 7056)              49794192  \n",
      "                                                                 \n",
      " dense_27 (Dense)            (None, 120)               846840    \n",
      "                                                                 \n",
      " dense_28 (Dense)            (None, 1)                 121       \n",
      "                                                                 \n",
      " dense_29 (Dense)            (None, 2)                 4         \n",
      "                                                                 \n",
      "=================================================================\n",
      "Total params: 50,644,029\n",
      "Trainable params: 50,644,029\n",
      "Non-trainable params: 0\n",
      "_________________________________________________________________\n"
     ]
    }
   ],
   "source": [
    "# LeNet\n",
    "inputs = Input(shape=(96,96,3))\n",
    "x = Conv2D(filters=6, kernel_size=5, activation='relu')(inputs)\n",
    "x = AveragePooling2D(pool_size=2)(x)\n",
    "x = Conv2D(filters=16, kernel_size=5, activation='relu')(x)\n",
    "x = AveragePooling2D(pool_size=2)(x)\n",
    "x = Flatten()(x)\n",
    "x = Dense(7056, activation='sigmoid')(x)\n",
    "x = Dense(120, activation='sigmoid')(x)\n",
    "x = Dense(1, activation='sigmoid')(x)\n",
    "outputs = Dense(2, activation='softmax')(x)\n",
    "model = Model(inputs=inputs, outputs=outputs)\n",
    "model.summary()"
   ]
  },
  {
   "attachments": {},
   "cell_type": "markdown",
   "metadata": {},
   "source": [
    "#### ResNet"
   ]
  },
  {
   "cell_type": "code",
   "execution_count": 79,
   "metadata": {},
   "outputs": [
    {
     "name": "stdout",
     "output_type": "stream",
     "text": [
      "Model: \"model_18\"\n",
      "_________________________________________________________________\n",
      " Layer (type)                Output Shape              Param #   \n",
      "=================================================================\n",
      " input_19 (InputLayer)       [(None, 96, 96, 3)]       0         \n",
      "                                                                 \n",
      " conv2d_49 (Conv2D)          (None, 86, 86, 48)        17472     \n",
      "                                                                 \n",
      " max_pooling2d_14 (MaxPoolin  (None, 28, 28, 48)       0         \n",
      " g2D)                                                            \n",
      "                                                                 \n",
      " conv2d_50 (Conv2D)          (None, 24, 24, 128)       153728    \n",
      "                                                                 \n",
      " max_pooling2d_15 (MaxPoolin  (None, 8, 8, 128)        0         \n",
      " g2D)                                                            \n",
      "                                                                 \n",
      " conv2d_51 (Conv2D)          (None, 6, 6, 192)         221376    \n",
      "                                                                 \n",
      " conv2d_52 (Conv2D)          (None, 4, 4, 192)         331968    \n",
      "                                                                 \n",
      " conv2d_53 (Conv2D)          (None, 2, 2, 128)         221312    \n",
      "                                                                 \n",
      " flatten_18 (Flatten)        (None, 512)               0         \n",
      "                                                                 \n",
      " dense_41 (Dense)            (None, 512)               262656    \n",
      "                                                                 \n",
      " dense_42 (Dense)            (None, 256)               131328    \n",
      "                                                                 \n",
      " dense_43 (Dense)            (None, 2)                 514       \n",
      "                                                                 \n",
      "=================================================================\n",
      "Total params: 1,340,354\n",
      "Trainable params: 1,340,354\n",
      "Non-trainable params: 0\n",
      "_________________________________________________________________\n",
      "Epoch 1/10\n",
      "82/82 [==============================] - 63s 705ms/step - loss: 0.6909 - accuracy: 0.5189 - val_loss: 0.6928 - val_accuracy: 0.6311\n",
      "Epoch 2/10\n",
      "82/82 [==============================] - 57s 700ms/step - loss: 0.6915 - accuracy: 0.5345 - val_loss: 0.6945 - val_accuracy: 0.4451\n",
      "Epoch 3/10\n",
      "82/82 [==============================] - 67s 812ms/step - loss: 0.6984 - accuracy: 0.5074 - val_loss: 0.6944 - val_accuracy: 0.4451\n",
      "Epoch 4/10\n",
      "82/82 [==============================] - 72s 879ms/step - loss: 0.6880 - accuracy: 0.5425 - val_loss: 0.6925 - val_accuracy: 0.4451\n",
      "Epoch 5/10\n",
      "82/82 [==============================] - 61s 740ms/step - loss: 0.6856 - accuracy: 0.5738 - val_loss: 0.6855 - val_accuracy: 0.4543\n",
      "Epoch 6/10\n",
      "82/82 [==============================] - 52s 632ms/step - loss: 0.6837 - accuracy: 0.5944 - val_loss: 0.6868 - val_accuracy: 0.4939\n",
      "Epoch 7/10\n",
      "82/82 [==============================] - 53s 643ms/step - loss: 0.6680 - accuracy: 0.6139 - val_loss: 0.6363 - val_accuracy: 0.6677\n",
      "Epoch 8/10\n",
      "82/82 [==============================] - 60s 738ms/step - loss: 0.6699 - accuracy: 0.6101 - val_loss: 0.6010 - val_accuracy: 0.7774\n",
      "Epoch 9/10\n",
      "82/82 [==============================] - 68s 830ms/step - loss: 0.6548 - accuracy: 0.6234 - val_loss: 0.6223 - val_accuracy: 0.7317\n",
      "Epoch 10/10\n",
      "82/82 [==============================] - 65s 794ms/step - loss: 0.6408 - accuracy: 0.6417 - val_loss: 0.6085 - val_accuracy: 0.6311\n"
     ]
    }
   ],
   "source": [
    "inputs = Input(shape=(96,96,3))\n",
    "x = Conv2D(filters=48, kernel_size=11, activation='relu')(inputs)\n",
    "x = MaxPooling2D((3, 3) )(x)\n",
    "x = Conv2D(filters=128, kernel_size=5, activation='relu')(x)\n",
    "x = MaxPooling2D((3, 3) )(x)\n",
    "x = Conv2D(filters=192, kernel_size=3, activation='relu')(x)\n",
    "x = Conv2D(filters=192, kernel_size=3, activation='relu')(x)\n",
    "x = Conv2D(filters=128, kernel_size=3, activation='relu')(x)\n",
    "#x = MaxPooling2D((3, 3), strides=(2,2) )(x)\n",
    "x = Flatten()(x)\n",
    "x = Dense(512, activation='relu')(x)\n",
    "x = Dense(256, activation='relu')(x)\n",
    "outputs = Dense(2, activation='softmax')(x)\n",
    "model = Model(inputs=inputs, outputs=outputs)\n",
    "#x = AveragePooling2D(pool_size=2)(x)\n",
    "#x = Conv2D(filters=6, kernel_size=3, activation='relu')(x)\n",
    "#x = AveragePooling2D(pool_size=2)(x)\n",
    "\n",
    "model.compile(optimizer=opt.Nadam(learning_rate=0.0002),\n",
    "\tloss='categorical_crossentropy',\n",
    "\tmetrics=['accuracy'])\n",
    "\n",
    "model.summary()\n",
    "\n",
    "history = model.fit(train, epochs = 10, validation_data= val)\n"
   ]
  },
  {
   "cell_type": "code",
   "execution_count": 80,
   "metadata": {},
   "outputs": [
    {
     "name": "stderr",
     "output_type": "stream",
     "text": [
      "WARNING:matplotlib.legend:No artists with labels found to put in legend.  Note that artists whose label start with an underscore are ignored when legend() is called with no argument.\n",
      "WARNING:matplotlib.legend:No artists with labels found to put in legend.  Note that artists whose label start with an underscore are ignored when legend() is called with no argument.\n"
     ]
    },
    {
     "data": {
      "image/png": "[encoded data removed]",
      "text/plain": [
       "<Figure size 640x480 with 2 Axes>"
      ]
     },
     "metadata": {},
     "output_type": "display_data"
    }
   ],
   "source": [
    "plot_hist(history)"
   ]
  },
  {
   "cell_type": "code",
   "execution_count": 75,
   "metadata": {},
   "outputs": [],
   "source": [
    "# small convnet from DLPR\n",
    "inputs = Input(shape=(28, 28, 1))\n",
    "x = Conv2D(filters=32, kernel_size=3, activation=\"relu\")(inputs)\n",
    "x = MaxPooling2D(pool_size=2)(x)\n",
    "x = Conv2D(filters=64, kernel_size=3, activation=\"relu\")(x)\n",
    "x = MaxPooling2D(pool_size=2)(x)\n",
    "x = Conv2D(filters=128, kernel_size=3, activation=\"relu\")(x)\n",
    "x = Flatten()(x)\n",
    "outputs = Dense(2, activation=\"softmax\")(x)\n",
    "model = Model(inputs=inputs, outputs=outputs)\n",
    "\n"
   ]
  },
  {
   "attachments": {},
   "cell_type": "markdown",
   "metadata": {},
   "source": [
    "## Alternative Optimizers\n",
    "- Visualize impact on training/validation losses and accuracies"
   ]
  },
  {
   "cell_type": "code",
   "execution_count": null,
   "metadata": {},
   "outputs": [],
   "source": [
    "# ----- SGD -----\n",
    "opt1 = tf.keras.optimizers.SGD(learning_rate=0.001)\n",
    "\n",
    "# ----- RMSProp -----\n",
    "opt2 = tf.keras.optimizers.RMSprop(learning_rate=0.001)\n",
    "\n",
    "# ----- Adagrad -----\n",
    "opt3 = tf.keras.optimizers.Adagrad(learning_rate=0.001)\n",
    "\n",
    "# ----- Adam -----\n",
    "opt4 = tf.keras.optimizers.Adam(learning_rate=0.001)\n"
   ]
  },
  {
   "attachments": {},
   "cell_type": "markdown",
   "metadata": {},
   "source": [
    "## Data Augmentation\n",
    "- Visualize impact on training/validation losses and accuracies\n",
    "- Discuss data augmentation and its relation to overfitting"
   ]
  }
 ],
 "metadata": {
  "kernelspec": {
   "display_name": ".venv",
   "language": "python",
   "name": "python3"
  },
  "language_info": {
   "codemirror_mode": {
    "name": "ipython",
    "version": 3
   },
   "file_extension": ".py",
   "mimetype": "text/x-python",
   "name": "python",
   "nbconvert_exporter": "python",
   "pygments_lexer": "ipython3",
   "version": "3.10.2"
  },
  "orig_nbformat": 4,
  "vscode": {
   "interpreter": {
    "hash": "e72cf8e77b7d4326b9e75b3e7b443795cefd44c8f7193af81f99b8d1febeaf0b"
   }
  }
 },
 "nbformat": 4,
 "nbformat_minor": 2
}
