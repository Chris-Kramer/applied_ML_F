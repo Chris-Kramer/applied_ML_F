{
 "cells": [
  {
   "attachments": {},
   "cell_type": "markdown",
   "metadata": {},
   "source": [
    "# Convolutional Neural Network"
   ]
  },
  {
   "attachments": {},
   "cell_type": "markdown",
   "metadata": {},
   "source": [
    "## Packages"
   ]
  },
  {
   "cell_type": "code",
   "execution_count": 43,
   "metadata": {},
   "outputs": [],
   "source": [
    "# ----- Tensorflow -----\n",
    "import tensorflow as tf\n",
    "from keras.models import Model\n",
    "from keras.layers import Flatten, Dense, Input\n",
    "from keras import optimizers as opt\n",
    "\n",
    "# ----- Transfer learning -----\n",
    "from keras.applications import NASNetLarge\n",
    "from keras.applications import EfficientNetB0\n",
    "from keras.applications import MobileNetV2\n",
    "\n",
    "# ----- plot -----\n",
    "import matplotlib.pyplot as plt\n",
    "\n",
    "# ----- Utility functions -----\n",
    "from utils import load_data, plot_hist, plot_hist_sideways, _convert_sample\n",
    "\n",
    "# ------ Data ------\n",
    "import numpy as np\n"
   ]
  },
  {
   "attachments": {},
   "cell_type": "markdown",
   "metadata": {},
   "source": [
    "## Load Data"
   ]
  },
  {
   "cell_type": "code",
   "execution_count": 44,
   "metadata": {},
   "outputs": [],
   "source": [
    "data_dir = \"D:/OneDrive - Syddansk Universitet/kandidat/3_semester/Maskinlæring/ds807_anvendt_maskinlæring/eksamen/exam/patch_camelyon\"\n",
    "BATCH_SIZE = 32\n",
    "train, test, val = load_data(data_dir, perc=1, batch_size=BATCH_SIZE)"
   ]
  },
  {
   "attachments": {},
   "cell_type": "markdown",
   "metadata": {},
   "source": [
    "## Transfer Learning\n",
    "- Discuss and apply transfer learning. Motivate what type of transfer learning you use and how you apply it, including considerations for how to prepare the data for this. Here, be sure to visualize plots of train and validation losses and accuracies.\n",
    "\n"
   ]
  },
  {
   "attachments": {},
   "cell_type": "markdown",
   "metadata": {},
   "source": [
    "## Feature Extraction Approach\n",
    "For the feature extraction approach, we will utilize a large network, since we do not have to train it, we can utilize its size and save computational ressources. In this case we are using NasNetLarge, since it is one of the best performing models in terms of accuracy for image classification. However, it is a HUGE model, and will take time to even load.\n",
    "However, we will also try with mobilenet v2 since it has been trained on 96 x 96 pixel images"
   ]
  },
  {
   "attachments": {},
   "cell_type": "markdown",
   "metadata": {},
   "source": [
    "### Helper Functions"
   ]
  },
  {
   "cell_type": "code",
   "execution_count": 52,
   "metadata": {},
   "outputs": [],
   "source": [
    "def get_x(dataset):\n",
    "    \"\"\"\n",
    "    Returns all y from tensorflow data set\n",
    "    \"\"\"\n",
    "    return tf.convert_to_tensor([x for _, x in dataset.unbatch()])\n",
    "\n",
    "def get_y(dataset):\n",
    "    \"\"\"\n",
    "    Returns all x from a tensorflow data set\n",
    "    \"\"\"\n",
    "    return tf.convert_to_tensor([y for _, y in dataset.unbatch()])\n",
    "\n",
    "def get_x_y(dataset):\n",
    "    \"\"\"\n",
    "    Returns all x and y from a tensorflow data set\n",
    "    \"\"\"\n",
    "    return get_x(dataset), get_y(dataset) \n"
   ]
  },
  {
   "attachments": {},
   "cell_type": "markdown",
   "metadata": {},
   "source": [
    "### Build Feature Extractor with NasNet Large"
   ]
  },
  {
   "attachments": {},
   "cell_type": "markdown",
   "metadata": {},
   "source": [
    "#### Feature Extractor"
   ]
  },
  {
   "cell_type": "code",
   "execution_count": 46,
   "metadata": {},
   "outputs": [],
   "source": [
    "# Initilize NasNetLarge Feature Extractor\n",
    "NasNet_ft_extractor = NASNetLarge(\n",
    "    input_shape=(96, 96, 3),\n",
    "    include_top= False,\n",
    "    weights='imagenet'\n",
    ")\n",
    "NasNet_ft_extractor.trainable = False"
   ]
  },
  {
   "attachments": {},
   "cell_type": "markdown",
   "metadata": {},
   "source": [
    "#### Classifier"
   ]
  },
  {
   "cell_type": "code",
   "execution_count": 47,
   "metadata": {},
   "outputs": [],
   "source": [
    "# Build classifer\n",
    "x = NasNet_ft_extractor.output\n",
    "x = Flatten()(x)\n",
    "x = Dense(512, activation='relu')(x)\n",
    "x = Dense(256, activation='relu')(x)\n",
    "output = Dense(2, activation='softmax')(x)\n",
    "m_nasnet = Model(inputs = NasNet_ft_extractor.output, outputs = output)\n",
    "\n",
    "# Compile model\n",
    "m_nasnet.compile(\n",
    "    optimizer = opt.Nadam(learning_rate=0.001),\n",
    "    loss='categorical_crossentropy',\n",
    "    metrics=['accuracy'],\n",
    "    )"
   ]
  },
  {
   "attachments": {},
   "cell_type": "markdown",
   "metadata": {},
   "source": [
    "#### Extract Features"
   ]
  },
  {
   "cell_type": "code",
   "execution_count": 55,
   "metadata": {},
   "outputs": [
    {
     "name": "stdout",
     "output_type": "stream",
     "text": [
      "82/82 [==============================] - 108s 1s/step\n",
      "11/11 [==============================] - 13s 1s/step\n"
     ]
    }
   ],
   "source": [
    "# X features\n",
    "nasnet_fts_train = NasNet_ft_extractor.predict(train)\n",
    "nasnet_fts_val = NasNet_ft_extractor.predict(val)"
   ]
  },
  {
   "cell_type": "code",
   "execution_count": 56,
   "metadata": {},
   "outputs": [],
   "source": [
    "# Y labels \n",
    "y_train = get_y(train)\n",
    "y_val = get_y(val)"
   ]
  },
  {
   "attachments": {},
   "cell_type": "markdown",
   "metadata": {},
   "source": [
    "#### Train model with Nasnet Extractor"
   ]
  },
  {
   "cell_type": "code",
   "execution_count": 57,
   "metadata": {},
   "outputs": [
    {
     "name": "stdout",
     "output_type": "stream",
     "text": [
      "Epoch 1/5\n",
      "82/82 [==============================] - 36s 440ms/step - loss: 0.3407 - accuracy: 0.8882 - val_loss: 0.6276 - val_accuracy: 0.7317\n",
      "Epoch 2/5\n",
      "82/82 [==============================] - 36s 440ms/step - loss: 0.2323 - accuracy: 0.9523 - val_loss: 0.8303 - val_accuracy: 0.7439\n",
      "Epoch 3/5\n",
      "82/82 [==============================] - 35s 432ms/step - loss: 0.1248 - accuracy: 0.9832 - val_loss: 1.0110 - val_accuracy: 0.7195\n",
      "Epoch 4/5\n",
      "82/82 [==============================] - 36s 438ms/step - loss: 0.0118 - accuracy: 0.9985 - val_loss: 1.1873 - val_accuracy: 0.7622\n",
      "Epoch 5/5\n",
      "82/82 [==============================] - 36s 440ms/step - loss: 0.0912 - accuracy: 0.9748 - val_loss: 1.0041 - val_accuracy: 0.7409\n"
     ]
    }
   ],
   "source": [
    "history_nasnet = m_nasnet.fit(x = nasnet_fts_train, y = y_train, validation_data = (nasnet_fts_val, y_val), epochs = 5, batch_size = 32)\n"
   ]
  },
  {
   "attachments": {},
   "cell_type": "markdown",
   "metadata": {},
   "source": [
    "### Feature extractor with MobileNetV2"
   ]
  },
  {
   "attachments": {},
   "cell_type": "markdown",
   "metadata": {},
   "source": [
    "#### Feature Extractor"
   ]
  },
  {
   "cell_type": "code",
   "execution_count": 59,
   "metadata": {},
   "outputs": [
    {
     "name": "stdout",
     "output_type": "stream",
     "text": [
      "Downloading data from https://storage.googleapis.com/tensorflow/keras-applications/mobilenet_v2/mobilenet_v2_weights_tf_dim_ordering_tf_kernels_1.0_96_no_top.h5\n",
      "9406464/9406464 [==============================] - 1s 0us/step\n"
     ]
    }
   ],
   "source": [
    "# Layers for feature extraction\n",
    "mobilev2_ft_extractor = MobileNetV2(\n",
    "    input_shape=(96, 96, 3),\n",
    "    include_top= False,\n",
    "    weights='imagenet'\n",
    ")\n",
    "mobilev2_ft_extractor.trainable = False"
   ]
  },
  {
   "attachments": {},
   "cell_type": "markdown",
   "metadata": {},
   "source": [
    "#### Classifier"
   ]
  },
  {
   "cell_type": "code",
   "execution_count": 66,
   "metadata": {},
   "outputs": [],
   "source": [
    "# Full model\n",
    "x = mobilev2_ft_extractor.output\n",
    "x = Flatten()(x)\n",
    "x = Dense(512, activation='relu')(x)\n",
    "x = Dense(256, activation='relu')(x)\n",
    "output = Dense(2, activation='softmax')(x)\n",
    "m_mobilev2 = Model(inputs = mobilev2_ft_extractor.output, outputs = output)\n",
    "\n",
    "# Compile model\n",
    "# Compile model\n",
    "m_mobilev2.compile(\n",
    "    optimizer = opt.Nadam(learning_rate=0.001),\n",
    "    loss='categorical_crossentropy',\n",
    "    metrics=['accuracy'],\n",
    "    )"
   ]
  },
  {
   "attachments": {},
   "cell_type": "markdown",
   "metadata": {},
   "source": [
    "#### Extract Features"
   ]
  },
  {
   "cell_type": "code",
   "execution_count": 67,
   "metadata": {},
   "outputs": [
    {
     "name": "stdout",
     "output_type": "stream",
     "text": [
      "82/82 [==============================] - 11s 130ms/step\n",
      "11/11 [==============================] - 1s 111ms/step\n"
     ]
    }
   ],
   "source": [
    "# Extract Features\n",
    "mobilev2_fts_train = mobilev2_ft_extractor.predict(train)\n",
    "mobilev2_fts_val = mobilev2_ft_extractor.predict(val)"
   ]
  },
  {
   "attachments": {},
   "cell_type": "markdown",
   "metadata": {},
   "source": [
    "#### Train model with mobilev2 ft extractor"
   ]
  },
  {
   "cell_type": "code",
   "execution_count": 68,
   "metadata": {},
   "outputs": [
    {
     "name": "stdout",
     "output_type": "stream",
     "text": [
      "Epoch 1/5\n",
      "82/82 [==============================] - ETA: 0s - loss: 0.9070 - accuracy: 0.7215"
     ]
    },
    {
     "ename": "ValueError",
     "evalue": "in user code:\n\n    File \"c:\\Users\\chris\\Desktop\\applied_ML_faelles\\.venv\\lib\\site-packages\\keras\\engine\\training.py\", line 1820, in test_function  *\n        return step_function(self, iterator)\n    File \"c:\\Users\\chris\\Desktop\\applied_ML_faelles\\.venv\\lib\\site-packages\\keras\\engine\\training.py\", line 1804, in step_function  **\n        outputs = model.distribute_strategy.run(run_step, args=(data,))\n    File \"c:\\Users\\chris\\Desktop\\applied_ML_faelles\\.venv\\lib\\site-packages\\keras\\engine\\training.py\", line 1792, in run_step  **\n        outputs = model.test_step(data)\n    File \"c:\\Users\\chris\\Desktop\\applied_ML_faelles\\.venv\\lib\\site-packages\\keras\\engine\\training.py\", line 1756, in test_step\n        y_pred = self(x, training=False)\n    File \"c:\\Users\\chris\\Desktop\\applied_ML_faelles\\.venv\\lib\\site-packages\\keras\\utils\\traceback_utils.py\", line 70, in error_handler\n        raise e.with_traceback(filtered_tb) from None\n    File \"c:\\Users\\chris\\Desktop\\applied_ML_faelles\\.venv\\lib\\site-packages\\keras\\engine\\input_spec.py\", line 295, in assert_input_compatibility\n        raise ValueError(\n\n    ValueError: Input 0 of layer \"model_3\" is incompatible with the layer: expected shape=(None, 3, 3, 1280), found shape=(None, 96, 96, 3)\n",
     "output_type": "error",
     "traceback": [
      "\u001b[1;31m---------------------------------------------------------------------------\u001b[0m",
      "\u001b[1;31mValueError\u001b[0m                                Traceback (most recent call last)",
      "Cell \u001b[1;32mIn[68], line 1\u001b[0m\n\u001b[1;32m----> 1\u001b[0m history_mobile_v2 \u001b[39m=\u001b[39m m_mobilev2\u001b[39m.\u001b[39;49mfit(x \u001b[39m=\u001b[39;49m mobilev2_fts_train, y \u001b[39m=\u001b[39;49m y_train, validation_data \u001b[39m=\u001b[39;49m val, epochs \u001b[39m=\u001b[39;49m \u001b[39m5\u001b[39;49m)\n",
      "File \u001b[1;32mc:\\Users\\chris\\Desktop\\applied_ML_faelles\\.venv\\lib\\site-packages\\keras\\utils\\traceback_utils.py:70\u001b[0m, in \u001b[0;36mfilter_traceback.<locals>.error_handler\u001b[1;34m(*args, **kwargs)\u001b[0m\n\u001b[0;32m     67\u001b[0m     filtered_tb \u001b[39m=\u001b[39m _process_traceback_frames(e\u001b[39m.\u001b[39m__traceback__)\n\u001b[0;32m     68\u001b[0m     \u001b[39m# To get the full stack trace, call:\u001b[39;00m\n\u001b[0;32m     69\u001b[0m     \u001b[39m# `tf.debugging.disable_traceback_filtering()`\u001b[39;00m\n\u001b[1;32m---> 70\u001b[0m     \u001b[39mraise\u001b[39;00m e\u001b[39m.\u001b[39mwith_traceback(filtered_tb) \u001b[39mfrom\u001b[39;00m \u001b[39mNone\u001b[39m\n\u001b[0;32m     71\u001b[0m \u001b[39mfinally\u001b[39;00m:\n\u001b[0;32m     72\u001b[0m     \u001b[39mdel\u001b[39;00m filtered_tb\n",
      "File \u001b[1;32m~\\AppData\\Local\\Temp\\__autograph_generated_filetxa07c2e.py:15\u001b[0m, in \u001b[0;36mouter_factory.<locals>.inner_factory.<locals>.tf__test_function\u001b[1;34m(iterator)\u001b[0m\n\u001b[0;32m     13\u001b[0m \u001b[39mtry\u001b[39;00m:\n\u001b[0;32m     14\u001b[0m     do_return \u001b[39m=\u001b[39m \u001b[39mTrue\u001b[39;00m\n\u001b[1;32m---> 15\u001b[0m     retval_ \u001b[39m=\u001b[39m ag__\u001b[39m.\u001b[39mconverted_call(ag__\u001b[39m.\u001b[39mld(step_function), (ag__\u001b[39m.\u001b[39mld(\u001b[39mself\u001b[39m), ag__\u001b[39m.\u001b[39mld(iterator)), \u001b[39mNone\u001b[39;00m, fscope)\n\u001b[0;32m     16\u001b[0m \u001b[39mexcept\u001b[39;00m:\n\u001b[0;32m     17\u001b[0m     do_return \u001b[39m=\u001b[39m \u001b[39mFalse\u001b[39;00m\n",
      "\u001b[1;31mValueError\u001b[0m: in user code:\n\n    File \"c:\\Users\\chris\\Desktop\\applied_ML_faelles\\.venv\\lib\\site-packages\\keras\\engine\\training.py\", line 1820, in test_function  *\n        return step_function(self, iterator)\n    File \"c:\\Users\\chris\\Desktop\\applied_ML_faelles\\.venv\\lib\\site-packages\\keras\\engine\\training.py\", line 1804, in step_function  **\n        outputs = model.distribute_strategy.run(run_step, args=(data,))\n    File \"c:\\Users\\chris\\Desktop\\applied_ML_faelles\\.venv\\lib\\site-packages\\keras\\engine\\training.py\", line 1792, in run_step  **\n        outputs = model.test_step(data)\n    File \"c:\\Users\\chris\\Desktop\\applied_ML_faelles\\.venv\\lib\\site-packages\\keras\\engine\\training.py\", line 1756, in test_step\n        y_pred = self(x, training=False)\n    File \"c:\\Users\\chris\\Desktop\\applied_ML_faelles\\.venv\\lib\\site-packages\\keras\\utils\\traceback_utils.py\", line 70, in error_handler\n        raise e.with_traceback(filtered_tb) from None\n    File \"c:\\Users\\chris\\Desktop\\applied_ML_faelles\\.venv\\lib\\site-packages\\keras\\engine\\input_spec.py\", line 295, in assert_input_compatibility\n        raise ValueError(\n\n    ValueError: Input 0 of layer \"model_3\" is incompatible with the layer: expected shape=(None, 3, 3, 1280), found shape=(None, 96, 96, 3)\n"
     ]
    }
   ],
   "source": [
    "history_mobile_v2 = m_mobilev2.fit(x = mobilev2_fts_train, y = y_train, validation_data = val, epochs = 5)"
   ]
  },
  {
   "attachments": {},
   "cell_type": "markdown",
   "metadata": {},
   "source": [
    "### Plot Results"
   ]
  },
  {
   "cell_type": "code",
   "execution_count": 58,
   "metadata": {},
   "outputs": [
    {
     "data": {
      "image/png": "[encoded data removed]",
      "text/plain": [
       "<Figure size 640x480 with 2 Axes>"
      ]
     },
     "metadata": {},
     "output_type": "display_data"
    }
   ],
   "source": [
    "plot_hist_sideways(history_nasnet)"
   ]
  },
  {
   "cell_type": "code",
   "execution_count": null,
   "metadata": {},
   "outputs": [],
   "source": [
    "plot_hist_sideways(history_mobile_v2)"
   ]
  },
  {
   "attachments": {},
   "cell_type": "markdown",
   "metadata": {},
   "source": [
    "## Fine Tuning Approach\n",
    "- For our fine tuning approach we will use a smaller and more efficient model, since we will be retraining it. We are therefore, using EfficientNet B0"
   ]
  },
  {
   "cell_type": "code",
   "execution_count": null,
   "metadata": {},
   "outputs": [],
   "source": []
  }
 ],
 "metadata": {
  "kernelspec": {
   "display_name": ".venv",
   "language": "python",
   "name": "python3"
  },
  "language_info": {
   "codemirror_mode": {
    "name": "ipython",
    "version": 3
   },
   "file_extension": ".py",
   "mimetype": "text/x-python",
   "name": "python",
   "nbconvert_exporter": "python",
   "pygments_lexer": "ipython3",
   "version": "3.10.9 (tags/v3.10.9:1dd9be6, Dec  6 2022, 20:01:21) [MSC v.1934 64 bit (AMD64)]"
  },
  "orig_nbformat": 4,
  "vscode": {
   "interpreter": {
    "hash": "ed8594f63bb8e1d292063e3913bd961c0ed3809105c83626cda9f50aac64f849"
   }
  }
 },
 "nbformat": 4,
 "nbformat_minor": 2
}
