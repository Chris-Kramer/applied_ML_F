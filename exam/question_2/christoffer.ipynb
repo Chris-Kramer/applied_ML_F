{
 "cells": [
  {
   "attachments": {},
   "cell_type": "markdown",
   "metadata": {},
   "source": [
    "# Convolutional Neural Network"
   ]
  },
  {
   "attachments": {},
   "cell_type": "markdown",
   "metadata": {},
   "source": [
    "### Packages"
   ]
  },
  {
   "cell_type": "code",
   "execution_count": null,
   "metadata": {},
   "outputs": [],
   "source": [
    "# ----- Tensorflow -----\n",
    "import tensorflow as tf\n",
    "import tensorflow_datasets as tfds\n",
    "from keras import regularizers as reg\n",
    "from keras import optimizers opt\n",
    "from keras.models import Model, load_model\n",
    "from keras.callbacks import EarlyStopping, ModelCheckpoint\n",
    "from keras.preprocessing.image import ImageDataGenerator\n",
    "from keras.utils.vis_utils import plot_model\n",
    "\n",
    "from keras.layers import Input, Dropout, Dense, Conv2D, MaxPooling2D, Flatten, Concatenate, AveragePooling2D\n",
    "\n",
    "# ----- Utility functions -----\n",
    "from utils import load_data, plot_hist"
   ]
  },
  {
   "attachments": {},
   "cell_type": "markdown",
   "metadata": {},
   "source": [
    "### Load Data"
   ]
  },
  {
   "cell_type": "code",
   "execution_count": null,
   "metadata": {},
   "outputs": [],
   "source": [
    "data_dir = \n",
    "BATCH_SIZE = 32\n",
    "train, test, val = load_data(data_dir, perc=1, batch_size=BATCH_SIZE)"
   ]
  },
  {
   "attachments": {},
   "cell_type": "markdown",
   "metadata": {},
   "source": [
    "### Architectures\n",
    "- Consider and discuss alternative CNN model architectures"
   ]
  },
  {
   "cell_type": "code",
   "execution_count": null,
   "metadata": {},
   "outputs": [],
   "source": [
    "# ----- ResNet -----\n",
    "inputs = Input(shape=(96,96,3))\n",
    "x = Conv2D(filters=48, kernel_size=11, activation='relu')(inputs)\n",
    "x = MaxPooling2D((3, 3) )(x)\n",
    "x = Conv2D(filters=128, kernel_size=5, activation='relu')(x)\n",
    "x = MaxPooling2D((3, 3) )(x)\n",
    "x = Conv2D(filters=192, kernel_size=3, activation='relu')(x)\n",
    "x = Conv2D(filters=192, kernel_size=3, activation='relu')(x)\n",
    "x = Conv2D(filters=128, kernel_size=3, activation='relu')(x)\n",
    "#x = MaxPooling2D((3, 3), strides=(2,2) )(x)\n",
    "x = Flatten()(x)\n",
    "x = Dense(512, activation='relu')(x)\n",
    "x = Dense(256, activation='relu')(x)\n",
    "outputs = Dense(2, activation='softmax')(x)\n",
    "model = Model(inputs=inputs, outputs=outputs)\n",
    "#x = AveragePooling2D(pool_size=2)(x)\n",
    "#x = Conv2D(filters=6, kernel_size=3, activation='relu')(x)\n",
    "#x = AveragePooling2D(pool_size=2)(x)\n",
    "\n",
    "model.summary()"
   ]
  },
  {
   "cell_type": "code",
   "execution_count": null,
   "metadata": {},
   "outputs": [],
   "source": [
    "# ----- Configure model -----\n",
    "model.compile(optimizer=opt.Nadam(learning_rate=0.0002),\n",
    "\tloss='categorical_crossentropy',\n",
    "\tmetrics=['accuracy'])\n",
    "\n",
    "# ----- Train model -----\n",
    "history = model.fit(train, epochs = 10, validation_data= val)"
   ]
  }
 ],
 "metadata": {
  "kernelspec": {
   "display_name": ".venv",
   "language": "python",
   "name": "python3"
  },
  "language_info": {
   "name": "python",
   "version": "3.10.2 (v3.10.2:a58ebcc701, Jan 13 2022, 14:50:16) [Clang 13.0.0 (clang-1300.0.29.30)]"
  },
  "orig_nbformat": 4,
  "vscode": {
   "interpreter": {
    "hash": "e72cf8e77b7d4326b9e75b3e7b443795cefd44c8f7193af81f99b8d1febeaf0b"
   }
  }
 },
 "nbformat": 4,
 "nbformat_minor": 2
}
