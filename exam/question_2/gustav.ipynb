{
 "cells": [
  {
   "attachments": {},
   "cell_type": "markdown",
   "metadata": {},
   "source": [
    "# Convolutional Neural Network"
   ]
  },
  {
   "attachments": {},
   "cell_type": "markdown",
   "metadata": {},
   "source": [
    "### Packages"
   ]
  },
  {
   "cell_type": "code",
   "execution_count": 3,
   "metadata": {},
   "outputs": [
    {
     "name": "stderr",
     "output_type": "stream",
     "text": [
      "2023-01-25 21:20:59.336801: I tensorflow/core/platform/cpu_feature_guard.cc:193] This TensorFlow binary is optimized with oneAPI Deep Neural Network Library (oneDNN) to use the following CPU instructions in performance-critical operations:  AVX2 FMA\n",
      "To enable them in other operations, rebuild TensorFlow with the appropriate compiler flags.\n",
      "/Users/gustavchristensen/Documents/SDU/MSc. Data Science/3. Semester - DT/Anvendt Maskinlæring/applied_ML_faelles/assignment_2/.venv/lib/python3.10/site-packages/tqdm/auto.py:22: TqdmWarning: IProgress not found. Please update jupyter and ipywidgets. See https://ipywidgets.readthedocs.io/en/stable/user_install.html\n",
      "  from .autonotebook import tqdm as notebook_tqdm\n"
     ]
    }
   ],
   "source": [
    "# ----- Tensorflow -----\n",
    "import tensorflow as tf\n",
    "import tensorflow_datasets as tfds\n",
    "from keras import regularizers as reg\n",
    "from keras import optimizers\n",
    "from keras.models import Model, load_model\n",
    "from keras.callbacks import EarlyStopping, ModelCheckpoint\n",
    "from keras.preprocessing.image import ImageDataGenerator\n",
    "from keras.utils.vis_utils import plot_model\n",
    "\n",
    "from keras.layers import Input, Dropout, Dense, Conv2D, MaxPooling2D, Flatten, Concatenate, AveragePooling2D\n",
    "\n",
    "# ----- Utility functions -----\n",
    "from utils import load_data, plot_hist"
   ]
  },
  {
   "attachments": {},
   "cell_type": "markdown",
   "metadata": {},
   "source": [
    "### Load Data"
   ]
  },
  {
   "cell_type": "code",
   "execution_count": 19,
   "metadata": {},
   "outputs": [],
   "source": [
    "data_dir = '/Users/gustavchristensen/Documents/SDU/MSc. Data Science/3. Semester - DT/Anvendt Maskinlæring'\n",
    "BATCH_SIZE = 32\n",
    "train, test, val = load_data(data_dir, perc=8, batch_size=BATCH_SIZE)"
   ]
  },
  {
   "attachments": {},
   "cell_type": "markdown",
   "metadata": {},
   "source": [
    "### Architectures\n",
    "- Consider and discuss alternative CNN model architectures"
   ]
  },
  {
   "cell_type": "code",
   "execution_count": 20,
   "metadata": {},
   "outputs": [
    {
     "name": "stdout",
     "output_type": "stream",
     "text": [
      "Model: \"model_8\"\n",
      "_________________________________________________________________\n",
      " Layer (type)                Output Shape              Param #   \n",
      "=================================================================\n",
      " input_9 (InputLayer)        [(None, 96, 96, 3)]       0         \n",
      "                                                                 \n",
      " conv2d_24 (Conv2D)          (None, 94, 94, 32)        896       \n",
      "                                                                 \n",
      " max_pooling2d_16 (MaxPoolin  (None, 47, 47, 32)       0         \n",
      " g2D)                                                            \n",
      "                                                                 \n",
      " conv2d_25 (Conv2D)          (None, 45, 45, 64)        18496     \n",
      "                                                                 \n",
      " max_pooling2d_17 (MaxPoolin  (None, 22, 22, 64)       0         \n",
      " g2D)                                                            \n",
      "                                                                 \n",
      " conv2d_26 (Conv2D)          (None, 20, 20, 128)       73856     \n",
      "                                                                 \n",
      " flatten_8 (Flatten)         (None, 51200)             0         \n",
      "                                                                 \n",
      " dense_8 (Dense)             (None, 2)                 102402    \n",
      "                                                                 \n",
      "=================================================================\n",
      "Total params: 195,650\n",
      "Trainable params: 195,650\n",
      "Non-trainable params: 0\n",
      "_________________________________________________________________\n"
     ]
    }
   ],
   "source": [
    "# ----- Small Convnet from DLPR -----\n",
    "inputs = Input(shape=(96, 96, 3))\n",
    "x = Conv2D(filters=32, kernel_size=3, activation=\"relu\")(inputs)\n",
    "x = MaxPooling2D(pool_size=2)(x)\n",
    "x = Conv2D(filters=64, kernel_size=3, activation=\"relu\")(x)\n",
    "x = MaxPooling2D(pool_size=2)(x)\n",
    "x = Conv2D(filters=128, kernel_size=3, activation=\"relu\")(x)\n",
    "x = Flatten()(x)\n",
    "outputs = Dense(2, activation=\"softmax\")(x)\n",
    "model = Model(inputs=inputs, outputs=outputs)\n",
    "\n",
    "model.summary()"
   ]
  },
  {
   "cell_type": "code",
   "execution_count": 21,
   "metadata": {},
   "outputs": [
    {
     "name": "stdout",
     "output_type": "stream",
     "text": [
      "Epoch 1/15\n",
      "656/656 [==============================] - 206s 312ms/step - loss: 0.5934 - accuracy: 0.7226 - val_loss: 0.5005 - val_accuracy: 0.7539\n",
      "Epoch 2/15\n",
      "656/656 [==============================] - 204s 310ms/step - loss: 0.4846 - accuracy: 0.7727 - val_loss: 0.4540 - val_accuracy: 0.7936\n",
      "Epoch 3/15\n",
      "656/656 [==============================] - 215s 327ms/step - loss: 0.4511 - accuracy: 0.7971 - val_loss: 0.5327 - val_accuracy: 0.7596\n",
      "Epoch 4/15\n",
      "656/656 [==============================] - 216s 329ms/step - loss: 0.4098 - accuracy: 0.8210 - val_loss: 0.5242 - val_accuracy: 0.7703\n",
      "Epoch 5/15\n",
      "656/656 [==============================] - 208s 317ms/step - loss: 0.3593 - accuracy: 0.8504 - val_loss: 0.5062 - val_accuracy: 0.7749\n",
      "Epoch 6/15\n",
      "656/656 [==============================] - 212s 323ms/step - loss: 0.2981 - accuracy: 0.8785 - val_loss: 0.9224 - val_accuracy: 0.7097\n",
      "Epoch 7/15\n",
      "656/656 [==============================] - 216s 329ms/step - loss: 0.2362 - accuracy: 0.9086 - val_loss: 0.7797 - val_accuracy: 0.7402\n",
      "Epoch 8/15\n",
      "656/656 [==============================] - 216s 329ms/step - loss: 0.1838 - accuracy: 0.9321 - val_loss: 1.3834 - val_accuracy: 0.6799\n",
      "Epoch 9/15\n",
      "656/656 [==============================] - 207s 315ms/step - loss: 0.1451 - accuracy: 0.9446 - val_loss: 1.0450 - val_accuracy: 0.7428\n",
      "Epoch 10/15\n",
      "656/656 [==============================] - 183s 278ms/step - loss: 0.1192 - accuracy: 0.9583 - val_loss: 1.2948 - val_accuracy: 0.7287\n",
      "Epoch 11/15\n",
      "656/656 [==============================] - 208s 318ms/step - loss: 0.0974 - accuracy: 0.9668 - val_loss: 1.4196 - val_accuracy: 0.7421\n",
      "Epoch 12/15\n",
      "656/656 [==============================] - 230s 351ms/step - loss: 0.0853 - accuracy: 0.9704 - val_loss: 1.5719 - val_accuracy: 0.7310\n",
      "Epoch 13/15\n",
      "656/656 [==============================] - 209s 319ms/step - loss: 0.0817 - accuracy: 0.9721 - val_loss: 1.8848 - val_accuracy: 0.7165\n",
      "Epoch 14/15\n",
      "656/656 [==============================] - 207s 315ms/step - loss: 0.0768 - accuracy: 0.9745 - val_loss: 1.4273 - val_accuracy: 0.7699\n",
      "Epoch 15/15\n",
      "656/656 [==============================] - 206s 313ms/step - loss: 0.0656 - accuracy: 0.9773 - val_loss: 1.8034 - val_accuracy: 0.7612\n"
     ]
    }
   ],
   "source": [
    "# ----- Configure model -----\n",
    "model.compile(optimizer='rmsprop',\n",
    "\t\t\t  loss='categorical_crossentropy',\n",
    "\t\t\t  metrics=['accuracy'])\n",
    "\n",
    "# ----- Train model -----\n",
    "history = model.fit(train,\n",
    "\t\t\t\t\tepochs = 15,\n",
    "\t\t\t\t\tvalidation_data= val)\n",
    "\n",
    "# ----- Plot performance -----\n",
    "plot_hist(history)"
   ]
  },
  {
   "cell_type": "code",
   "execution_count": 27,
   "metadata": {},
   "outputs": [
    {
     "name": "stdout",
     "output_type": "stream",
     "text": [
      "Model: \"model_11\"\n",
      "_________________________________________________________________\n",
      " Layer (type)                Output Shape              Param #   \n",
      "=================================================================\n",
      " input_14 (InputLayer)       [(None, 96, 96, 3)]       0         \n",
      "                                                                 \n",
      " conv2d_39 (Conv2D)          (None, 94, 94, 32)        896       \n",
      "                                                                 \n",
      " max_pooling2d_26 (MaxPoolin  (None, 47, 47, 32)       0         \n",
      " g2D)                                                            \n",
      "                                                                 \n",
      " conv2d_40 (Conv2D)          (None, 45, 45, 64)        18496     \n",
      "                                                                 \n",
      " max_pooling2d_27 (MaxPoolin  (None, 22, 22, 64)       0         \n",
      " g2D)                                                            \n",
      "                                                                 \n",
      " conv2d_41 (Conv2D)          (None, 20, 20, 128)       73856     \n",
      "                                                                 \n",
      " max_pooling2d_28 (MaxPoolin  (None, 10, 10, 128)      0         \n",
      " g2D)                                                            \n",
      "                                                                 \n",
      " conv2d_42 (Conv2D)          (None, 8, 8, 256)         295168    \n",
      "                                                                 \n",
      " max_pooling2d_29 (MaxPoolin  (None, 4, 4, 256)        0         \n",
      " g2D)                                                            \n",
      "                                                                 \n",
      " conv2d_43 (Conv2D)          (None, 2, 2, 256)         590080    \n",
      "                                                                 \n",
      " flatten_11 (Flatten)        (None, 1024)              0         \n",
      "                                                                 \n",
      " dense_11 (Dense)            (None, 2)                 2050      \n",
      "                                                                 \n",
      "=================================================================\n",
      "Total params: 980,546\n",
      "Trainable params: 980,546\n",
      "Non-trainable params: 0\n",
      "_________________________________________________________________\n"
     ]
    }
   ],
   "source": [
    "# ----- Larger Convnet from DLPR -----\n",
    "inputs = Input(shape=(96, 96, 3))\n",
    "x = Conv2D(filters=32, kernel_size=3, activation=\"relu\")(inputs)\n",
    "x = MaxPooling2D(pool_size=2)(x)\n",
    "x = Conv2D(filters=64, kernel_size=3, activation=\"relu\")(x)\n",
    "x = MaxPooling2D(pool_size=2)(x)\n",
    "x = Conv2D(filters=128, kernel_size=3, activation=\"relu\")(x)\n",
    "x = MaxPooling2D(pool_size=2)(x)\n",
    "x = Conv2D(filters=256, kernel_size=3, activation=\"relu\")(x)\n",
    "x = MaxPooling2D(pool_size=2)(x)\n",
    "x = Conv2D(filters=256, kernel_size=3, activation=\"relu\")(x)\n",
    "x = Flatten()(x)\n",
    "outputs = Dense(2, activation=\"sigmoid\")(x)\n",
    "model = Model(inputs=inputs, outputs=outputs)\n",
    "\n",
    "model.summary()"
   ]
  },
  {
   "attachments": {},
   "cell_type": "markdown",
   "metadata": {},
   "source": [
    "## Alternative Optimizers\n",
    "- Visualize impact on training/validation losses and accuracies"
   ]
  },
  {
   "cell_type": "code",
   "execution_count": null,
   "metadata": {},
   "outputs": [],
   "source": [
    "# ----- SGD -----\n",
    "opt1 = tf.keras.optimizers.SGD(learning_rate=0.001)\n",
    "\n",
    "# ----- RMSProp -----\n",
    "opt2 = tf.keras.optimizers.RMSprop(learning_rate=0.001)\n",
    "\n",
    "# ----- Adagrad -----\n",
    "opt3 = tf.keras.optimizers.Adagrad(learning_rate=0.001)\n",
    "\n",
    "# ----- Adam -----\n",
    "opt4 = tf.keras.optimizers.Adam(learning_rate=0.001)\n"
   ]
  },
  {
   "cell_type": "code",
   "execution_count": 28,
   "metadata": {},
   "outputs": [
    {
     "name": "stdout",
     "output_type": "stream",
     "text": [
      "Epoch 1/15\n",
      "656/656 [==============================] - 306s 465ms/step - loss: 0.5857 - accuracy: 0.6984 - val_loss: 0.4871 - val_accuracy: 0.7596\n",
      "Epoch 2/15\n",
      "656/656 [==============================] - 289s 441ms/step - loss: 0.4860 - accuracy: 0.7789 - val_loss: 0.4472 - val_accuracy: 0.8027\n",
      "Epoch 3/15\n",
      "656/656 [==============================] - 283s 430ms/step - loss: 0.4502 - accuracy: 0.7981 - val_loss: 0.4529 - val_accuracy: 0.7875\n",
      "Epoch 4/15\n",
      "656/656 [==============================] - 286s 436ms/step - loss: 0.4271 - accuracy: 0.8156 - val_loss: 0.4065 - val_accuracy: 0.8207\n",
      "Epoch 5/15\n",
      "656/656 [==============================] - 290s 442ms/step - loss: 0.3940 - accuracy: 0.8329 - val_loss: 0.3993 - val_accuracy: 0.8302\n",
      "Epoch 6/15\n",
      "656/656 [==============================] - 300s 458ms/step - loss: 0.3644 - accuracy: 0.8502 - val_loss: 0.5575 - val_accuracy: 0.7894\n",
      "Epoch 7/15\n",
      "656/656 [==============================] - 297s 453ms/step - loss: 0.3132 - accuracy: 0.8739 - val_loss: 0.5483 - val_accuracy: 0.7833\n",
      "Epoch 8/15\n",
      "656/656 [==============================] - 292s 446ms/step - loss: 0.2608 - accuracy: 0.8991 - val_loss: 0.6916 - val_accuracy: 0.7844\n",
      "Epoch 9/15\n",
      "656/656 [==============================] - 294s 448ms/step - loss: 0.2193 - accuracy: 0.9166 - val_loss: 0.7512 - val_accuracy: 0.7821\n",
      "Epoch 10/15\n",
      "656/656 [==============================] - 315s 480ms/step - loss: 0.1850 - accuracy: 0.9292 - val_loss: 0.8261 - val_accuracy: 0.7535\n",
      "Epoch 11/15\n",
      "656/656 [==============================] - 373s 568ms/step - loss: 0.1637 - accuracy: 0.9411 - val_loss: 0.8910 - val_accuracy: 0.8035\n",
      "Epoch 12/15\n",
      "656/656 [==============================] - 334s 509ms/step - loss: 0.1586 - accuracy: 0.9453 - val_loss: 1.0354 - val_accuracy: 0.7776\n",
      "Epoch 13/15\n",
      "656/656 [==============================] - 410s 626ms/step - loss: 0.1506 - accuracy: 0.9483 - val_loss: 0.8899 - val_accuracy: 0.7688\n",
      "Epoch 14/15\n",
      "656/656 [==============================] - 415s 632ms/step - loss: 0.1432 - accuracy: 0.9520 - val_loss: 1.2882 - val_accuracy: 0.7867\n",
      "Epoch 15/15\n",
      "656/656 [==============================] - 377s 575ms/step - loss: 0.1410 - accuracy: 0.9552 - val_loss: 1.3870 - val_accuracy: 0.7131\n"
     ]
    },
    {
     "name": "stderr",
     "output_type": "stream",
     "text": [
      "WARNING:matplotlib.legend:No artists with labels found to put in legend.  Note that artists whose label start with an underscore are ignored when legend() is called with no argument.\n",
      "WARNING:matplotlib.legend:No artists with labels found to put in legend.  Note that artists whose label start with an underscore are ignored when legend() is called with no argument.\n"
     ]
    },
    {
     "data": {
      "image/png": "[encoded data removed]",
      "text/plain": [
       "<Figure size 640x480 with 2 Axes>"
      ]
     },
     "metadata": {},
     "output_type": "display_data"
    }
   ],
   "source": [
    "# ----- Configure model -----\n",
    "model.compile(optimizer='rmsprop',\n",
    "\t\t\t  loss='categorical_crossentropy',\n",
    "\t\t\t  metrics=['accuracy'])\n",
    "\n",
    "# ----- Train model -----\n",
    "history = model.fit(train,\n",
    "\t\t\t\t\tepochs = 15,\n",
    "\t\t\t\t\tvalidation_data= val)\n",
    "\n",
    "# ----- Plot performance -----\n",
    "plot_hist(history)"
   ]
  },
  {
   "attachments": {},
   "cell_type": "markdown",
   "metadata": {},
   "source": [
    "## Data Augmentation\n",
    "- Visualize impact on training/validation losses and accuracies\n",
    "- Discuss data augmentation and its relation to overfitting"
   ]
  }
 ],
 "metadata": {
  "kernelspec": {
   "display_name": ".venv",
   "language": "python",
   "name": "python3"
  },
  "language_info": {
   "codemirror_mode": {
    "name": "ipython",
    "version": 3
   },
   "file_extension": ".py",
   "mimetype": "text/x-python",
   "name": "python",
   "nbconvert_exporter": "python",
   "pygments_lexer": "ipython3",
   "version": "3.10.2"
  },
  "orig_nbformat": 4,
  "vscode": {
   "interpreter": {
    "hash": "e72cf8e77b7d4326b9e75b3e7b443795cefd44c8f7193af81f99b8d1febeaf0b"
   }
  }
 },
 "nbformat": 4,
 "nbformat_minor": 2
}
