{
 "cells": [
  {
   "attachments": {},
   "cell_type": "markdown",
   "metadata": {},
   "source": [
    "# Convolutional Neural Network"
   ]
  },
  {
   "attachments": {},
   "cell_type": "markdown",
   "metadata": {},
   "source": [
    "### Packages"
   ]
  },
  {
   "cell_type": "code",
   "execution_count": null,
   "metadata": {},
   "outputs": [],
   "source": [
    "# ----- Tensorflow -----\n",
    "import tensorflow as tf\n",
    "import tensorflow_datasets as tfds\n",
    "from keras import regularizers as reg\n",
    "from keras import optimizers\n",
    "from keras.models import Model, load_model\n",
    "from keras.callbacks import EarlyStopping, ModelCheckpoint\n",
    "from keras.preprocessing.image import ImageDataGenerator\n",
    "from keras.utils.vis_utils import plot_model\n",
    "import matplotlib.pyplot as plt\n",
    "\n",
    "from keras.layers import Input, Dropout, Dense, Conv2D, MaxPooling2D, Flatten, Concatenate, AveragePooling2D, Rescaling\n",
    "\n",
    "# ----- Utility functions -----\n",
    "from utils import load_data, plot_hist"
   ]
  },
  {
   "attachments": {},
   "cell_type": "markdown",
   "metadata": {},
   "source": [
    "### Load Data"
   ]
  },
  {
   "cell_type": "code",
   "execution_count": null,
   "metadata": {},
   "outputs": [],
   "source": [
    "#data_dir = 'Users\\gusta\\OneDrive\\Skrivebord\\Data Science\\3. Semester - Data Science\\Anvendt Maskinlæring'\n",
    "data_dir = '/Users/gustavchristensen/Documents/SDU/MSc. Data Science/3. Semester - DT/Anvendt Maskinlæring'\n",
    "BATCH_SIZE = 32\n",
    "train, test, val = load_data(data_dir, perc=1, batch_size=BATCH_SIZE)"
   ]
  },
  {
   "attachments": {},
   "cell_type": "markdown",
   "metadata": {},
   "source": [
    "### Architectures\n",
    "- Consider and discuss alternative CNN model architectures\n",
    "\n",
    "Before we begin building complex architectures for the CNN model, we must establish a baseline classifier which we will attempt to beat. This common-sense baseline will tell us if we are moving in the right direction. In our case, we can choose a simple random classifier with a threshold of 0.5 since we have a binary classification problem where half of the samples belong to class A and the remaining 50% belong to class B. We could also specify a 'simple' machine learning algorithm as a baseline, but although we do not do this explicitly, we will aim to beat the trained models in question 1 as CNNs has some properties that make them superior to non-deep learning algorithms and feedforward neural networks (Chollet, 2021).\n",
    "\n",
    "At this point, the first thing we want to achieve is statistical power, i.e. to cross the threshold of our baseline classifier by developing a small model. To do so, we focus on parameters such as the loss function, batch_size, learning rate, etc. Due to the way we represent the labels, we will use the softmax activation and the loss function categorical cross entropy rather than sigmoid and binary cross entropy, however, this will not change the results of our models."
   ]
  },
  {
   "cell_type": "code",
   "execution_count": null,
   "metadata": {},
   "outputs": [],
   "source": [
    "# ----- Relatively Simple Convnet from DLPR -----\n",
    "inputs = Input(shape=(96, 96, 3))\n",
    "x = Conv2D(filters=32, kernel_size=3, activation=\"relu\")(inputs)\n",
    "x = MaxPooling2D(pool_size=2)(x)\n",
    "x = Conv2D(filters=64, kernel_size=3, activation=\"relu\")(x)\n",
    "x = MaxPooling2D(pool_size=2)(x)\n",
    "x = Conv2D(filters=128, kernel_size=3, activation=\"relu\")(x)\n",
    "x = MaxPooling2D(pool_size=2)(x)\n",
    "x = Conv2D(filters=256, kernel_size=3, activation=\"relu\")(x)\n",
    "x = MaxPooling2D(pool_size=2)(x)\n",
    "x = Conv2D(filters=256, kernel_size=3, activation=\"relu\")(x)\n",
    "x = Flatten()(x)\n",
    "outputs = Dense(2, activation=\"softmax\")(x)\n",
    "model = Model(inputs=inputs, outputs=outputs)\n",
    "\n",
    "# ----- Model summary -----\n",
    "model.summary()\n",
    "\n",
    "# ----- Configure model -----\n",
    "model.compile(optimizer='adam',\n",
    "\t\t\t  loss='categorical_crossentropy',\n",
    "\t\t\t  metrics=['accuracy'])\n",
    "\n",
    "# ----- Train model -----\n",
    "history = model.fit(train,\n",
    "\t\t\t\t\tepochs = 20,\n",
    "\t\t\t\t\tvalidation_data= val)\n",
    "\n",
    "# ----- Plot performance -----\n",
    "plot_hist(history)"
   ]
  },
  {
   "attachments": {},
   "cell_type": "markdown",
   "metadata": {},
   "source": [
    "According to Goodfellow et al. (2016) perhaps the most important hyperparameter is the learning rate, and if we only had time to tune a single parameter, it should be this one (p. 424). The learning rate controls the speed of the gradient descent process, i.e. how much to adjust the parameters in a single step (Chollet, 2021). If the learning rate is too small, results in too many iterations and the possibility of getting stuck at a local minimum. In contrary, too high of a learning rate could result in divergent behavior. Therefore, we try different values of the learning rate using the Adam optimizer. Due to time constraints of training with different optimizers and learning rates, we will only compare the Adam and Stochastic Gradient Descent (SGD) from Keras. This is reasonable because one... adaptive vs SGD"
   ]
  },
  {
   "cell_type": "code",
   "execution_count": 52,
   "metadata": {},
   "outputs": [
    {
     "name": "stdout",
     "output_type": "stream",
     "text": [
      "Model: \"model_14\"\n",
      "_________________________________________________________________\n",
      " Layer (type)                Output Shape              Param #   \n",
      "=================================================================\n",
      " input_27 (InputLayer)       [(None, 96, 96, 3)]       0         \n",
      "                                                                 \n",
      " conv2d_136 (Conv2D)         (None, 94, 94, 32)        896       \n",
      "                                                                 \n",
      " max_pooling2d_110 (MaxPooli  (None, 47, 47, 32)       0         \n",
      " ng2D)                                                           \n",
      "                                                                 \n",
      " conv2d_137 (Conv2D)         (None, 45, 45, 64)        18496     \n",
      "                                                                 \n",
      " max_pooling2d_111 (MaxPooli  (None, 22, 22, 64)       0         \n",
      " ng2D)                                                           \n",
      "                                                                 \n",
      " conv2d_138 (Conv2D)         (None, 20, 20, 128)       73856     \n",
      "                                                                 \n",
      " max_pooling2d_112 (MaxPooli  (None, 10, 10, 128)      0         \n",
      " ng2D)                                                           \n",
      "                                                                 \n",
      " conv2d_139 (Conv2D)         (None, 8, 8, 256)         295168    \n",
      "                                                                 \n",
      " max_pooling2d_113 (MaxPooli  (None, 4, 4, 256)        0         \n",
      " ng2D)                                                           \n",
      "                                                                 \n",
      " conv2d_140 (Conv2D)         (None, 2, 2, 256)         590080    \n",
      "                                                                 \n",
      " flatten_14 (Flatten)        (None, 1024)              0         \n",
      "                                                                 \n",
      " dense_14 (Dense)            (None, 2)                 2050      \n",
      "                                                                 \n",
      "=================================================================\n",
      "Total params: 980,546\n",
      "Trainable params: 980,546\n",
      "Non-trainable params: 0\n",
      "_________________________________________________________________\n",
      "82/82 [==============================] - 43s 504ms/step - loss: 3.8560 - accuracy: 0.5021 - val_loss: 0.6886 - val_accuracy: 0.5549\n",
      "82/82 [==============================] - 35s 409ms/step - loss: 0.6942 - accuracy: 0.4884 - val_loss: 0.6932 - val_accuracy: 0.4451\n",
      "82/82 [==============================] - 34s 396ms/step - loss: 0.6932 - accuracy: 0.4788 - val_loss: 0.6931 - val_accuracy: 0.5549\n",
      "82/82 [==============================] - 34s 396ms/step - loss: 0.6932 - accuracy: 0.5002 - val_loss: 0.6931 - val_accuracy: 0.5549\n"
     ]
    },
    {
     "data": {
      "text/plain": [
       "<function matplotlib.pyplot.show(close=None, block=None)>"
      ]
     },
     "execution_count": 52,
     "metadata": {},
     "output_type": "execute_result"
    },
    {
     "data": {
      "image/png": "[encoded data removed]",
      "text/plain": [
       "<Figure size 1000x600 with 8 Axes>"
      ]
     },
     "metadata": {},
     "output_type": "display_data"
    }
   ],
   "source": [
    "# ----- Relatively Simple Convnet from DLPR with different learning rates -----\n",
    "inputs = Input(shape=(96, 96, 3))\n",
    "x = Conv2D(filters=32, kernel_size=3, activation=\"relu\")(inputs)\n",
    "x = MaxPooling2D(pool_size=2)(x)\n",
    "x = Conv2D(filters=64, kernel_size=3, activation=\"relu\")(x)\n",
    "x = MaxPooling2D(pool_size=2)(x)\n",
    "x = Conv2D(filters=128, kernel_size=3, activation=\"relu\")(x)\n",
    "x = MaxPooling2D(pool_size=2)(x)\n",
    "x = Conv2D(filters=256, kernel_size=3, activation=\"relu\")(x)\n",
    "x = MaxPooling2D(pool_size=2)(x)\n",
    "x = Conv2D(filters=256, kernel_size=3, activation=\"relu\")(x)\n",
    "x = Flatten()(x)\n",
    "outputs = Dense(2, activation=\"softmax\")(x)\n",
    "model = Model(inputs=inputs, outputs=outputs)\n",
    "\n",
    "# ----- Model summary -----\n",
    "model.summary()\n",
    "\n",
    "# ----- Learning rates -----\n",
    "learning_rates = [0.01, 0.001, 0.0001, 0.00001]\n",
    "momentum = [0.99, 0.9]\n",
    "nesterov = [True, False]\n",
    "\n",
    "\n",
    "# ------------------------------------------------------------ BREAK ------------------------------------------------------------\n",
    "\n",
    "# ----- Define subplot grid -----\n",
    "t=1\n",
    "fig, axis = plt.subplots(nrows=4, ncols=2, figsize=(10, 6))\n",
    "plt.subplots_adjust(hspace=0.8)\n",
    "fig.suptitle(\"Training and validation accuracy for different learning rates with Adam\", fontsize=12, y=1)\n",
    "\n",
    "# Try different learning rates for Adam optimizer\n",
    "for i in range(len(learning_rates)):\n",
    "\t\n",
    "\topt = tf.keras.optimizers.Adam(learning_rate=learning_rates[i])\n",
    "\t# ----- Configure model -----\n",
    "\tmodel.compile(optimizer=opt,\n",
    "\t\t\t  \tloss='categorical_crossentropy',\n",
    "\t\t\t  metrics=['accuracy'])\n",
    "\n",
    "\t# ----- Train model -----\n",
    "\thistory = model.fit(train,\n",
    "\t\t\t\t\t\tepochs=1,\n",
    "\t\t\t\t\t\tvalidation_data=val)\n",
    "\n",
    "\t# ----- Plot performance -----\n",
    "\tacc = history.history['accuracy']\n",
    "\tval_acc = history.history['val_accuracy']\n",
    "\tloss = history.history['loss']\n",
    "\tval_loss = history.history['val_loss']\n",
    "\tepochs = range(1, len(acc) + 1)\n",
    "\n",
    "\taxis = plt.subplot(4, 2, t)\n",
    "\taxis.plot(epochs, acc,'r--', label='Training accuracy')\n",
    "\taxis.plot(epochs, val_acc, 'r', label='Validation accuracy')\n",
    "\taxis.set_title('Validations, lr=' + str(learning_rates[i]), fontsize=6)\n",
    "\n",
    "\taxis = plt.subplot(4, 2, t+1)\n",
    "\taxis.plot(epochs, loss, 'r--', label='Training loss')\n",
    "\taxis.plot(epochs, val_loss, 'r', label='Validation loss')\n",
    "\taxis.set_title('Losses, lr=' + str(learning_rates[i]), fontsize=6)\n",
    "\n",
    "\tt=t+2\n",
    "\n",
    "plt.show"
   ]
  },
  {
   "cell_type": "code",
   "execution_count": null,
   "metadata": {},
   "outputs": [],
   "source": [
    "# Try different learning rates, momentum, and nesterov for SGD optimizer\n",
    "for i in range(len(learning_rates)):\n",
    "\t\n",
    "\t# ----- Define subplot grid -----\n",
    "\tt=1\n",
    "\tfig, axis = plt.subplots(nrows=4, ncols=2, figsize=(16, 16))\n",
    "\tplt.subplots_adjust(hspace=0.8)\n",
    "\tfig.suptitle(\"Model accuracy for different learning- and momentum rates for SGD\", fontsize=12, y=1)\n",
    "\n",
    "\tfor m in range(len(momentum)):\n",
    "\t\tfor n in range(len(nesterov)):\n",
    "\t\t\t\n",
    "\t\t\tcurrent_model = simple_model()\n",
    "\n",
    "\t\t\topt = tf.keras.optimizers.SGD(learning_rate=learning_rates[i],\n",
    "\t\t\t\t\t\t\t\t\t\t  momentum=momentum[m],\n",
    "\t\t\t\t\t\t\t\t\t\t  nesterov=nesterov[n])\n",
    "\n",
    "\t\t\t# ----- Configure model -----\n",
    "\t\t\tcurrent_model.compile(optimizer=opt,\n",
    "\t\t\t\t\t\tloss='categorical_crossentropy',\n",
    "\t\t\t\t\tmetrics=['accuracy'])\n",
    "\n",
    "\t\t\t# ----- Train model -----\n",
    "\t\t\thistory = current_model.fit(train,\n",
    "\t\t\t\t\t\t\t\tepochs=2,\n",
    "\t\t\t\t\t\t\t\tvalidation_data=val)\n",
    "\n",
    "\t\t\t# ----- Plot performance -----\n",
    "\t\t\tacc = history.history['accuracy']\n",
    "\t\t\tval_acc = history.history['val_accuracy']\n",
    "\t\t\tloss = history.history['loss']\n",
    "\t\t\tval_loss = history.history['val_loss']\n",
    "\t\t\tepochs = range(1, len(acc) + 1)\n",
    "\n",
    "\t\t\taxis = plt.subplot(4, 2, t)\n",
    "\t\t\taxis.plot(epochs, acc,'r--', label='Training accuracy')\n",
    "\t\t\taxis.plot(epochs, val_acc, 'r', label='Validation accuracy')\n",
    "\t\t\taxis.set_title('Accuracy, lr=' + str(learning_rates[i]) + ', momen=' + str(momentum[m]) + ', nest=' + str(nesterov[n]), fontsize=6)\n",
    "\n",
    "\t\t\taxis = plt.subplot(4, 2, t+1)\n",
    "\t\t\taxis.plot(epochs, loss, 'r--', label='Training loss')\n",
    "\t\t\taxis.plot(epochs, val_loss, 'r', label='Validation loss')\n",
    "\t\t\taxis.set_title('Losses, lr=' + str(learning_rates[i]) + ', momen=' + str(momentum[m]) + ', nest=' + str(nesterov[n]), fontsize=6)\n",
    "\t\t\tt=t+2\n",
    "\n",
    "\t\t\tplt.savefig('lr=' + str(learning_rates[i]) + ', momen=' + str(momentum[m]) + ', nest=' + str(nesterov[n]))\n",
    "\n",
    "plt.show()"
   ]
  },
  {
   "attachments": {},
   "cell_type": "markdown",
   "metadata": {},
   "source": [
    "- Write something about the batch size"
   ]
  },
  {
   "cell_type": "code",
   "execution_count": null,
   "metadata": {},
   "outputs": [],
   "source": [
    "# Batch size changes here\n"
   ]
  },
  {
   "attachments": {},
   "cell_type": "markdown",
   "metadata": {},
   "source": [
    "- What is overfitting and how can we mitigate it? Address the problem of overfitting.\n",
    "\n",
    "Although the CNN has some level of generalization power, the results clearly show that the model is overfitting; despite that the training loss is decreasing, the validation is now increasing. This is a good sign in the sense that the model has sufficient representation power for the problem (Chollet, 2021).\n"
   ]
  }
 ],
 "metadata": {
  "kernelspec": {
   "display_name": ".venv",
   "language": "python",
   "name": "python3"
  },
  "language_info": {
   "codemirror_mode": {
    "name": "ipython",
    "version": 3
   },
   "file_extension": ".py",
   "mimetype": "text/x-python",
   "name": "python",
   "nbconvert_exporter": "python",
   "pygments_lexer": "ipython3",
   "version": "3.10.2"
  },
  "orig_nbformat": 4,
  "vscode": {
   "interpreter": {
    "hash": "e72cf8e77b7d4326b9e75b3e7b443795cefd44c8f7193af81f99b8d1febeaf0b"
   }
  }
 },
 "nbformat": 4,
 "nbformat_minor": 2
}
